{
 "cells": [
  {
   "cell_type": "code",
   "execution_count": 1,
   "metadata": {},
   "outputs": [],
   "source": [
    "#!pip3 install tensorflow_datasets"
   ]
  },
  {
   "cell_type": "code",
   "execution_count": 2,
   "metadata": {},
   "outputs": [
    {
     "name": "stdout",
     "output_type": "stream",
     "text": [
      "Tensorflow Version:  2.2.0\n"
     ]
    }
   ],
   "source": [
    "import csv\n",
    "import tensorflow as tf\n",
    "print(\"Tensorflow Version: \", tf.__version__)\n",
    "import numpy as np\n",
    "from tensorflow.keras.preprocessing.text import Tokenizer\n",
    "from tensorflow.keras.preprocessing.sequence import pad_sequences\n",
    "import tensorflow_datasets as tfds\n",
    "from tensorflow.keras import layers\n",
    "from tensorflow.keras import Model\n",
    "import matplotlib.image  as mpimg\n",
    "import matplotlib.pyplot as plt\n",
    "import h5py\n",
    "import pickle"
   ]
  },
  {
   "cell_type": "markdown",
   "metadata": {},
   "source": [
    "### Load the IMDB dataset from TF"
   ]
  },
  {
   "cell_type": "code",
   "execution_count": 3,
   "metadata": {},
   "outputs": [],
   "source": [
    "imdb, info = tfds.load(\"imdb_reviews\", with_info=True, as_supervised=True)"
   ]
  },
  {
   "cell_type": "code",
   "execution_count": 4,
   "metadata": {},
   "outputs": [
    {
     "name": "stdout",
     "output_type": "stream",
     "text": [
      "<class 'dict'>\n",
      "<class 'tensorflow_datasets.core.dataset_info.DatasetInfo'>\n"
     ]
    }
   ],
   "source": [
    "print(type(imdb))\n",
    "print(type(info))"
   ]
  },
  {
   "cell_type": "markdown",
   "metadata": {},
   "source": [
    "### Read and prepare data"
   ]
  },
  {
   "cell_type": "code",
   "execution_count": 5,
   "metadata": {},
   "outputs": [],
   "source": [
    "train_data, test_data = imdb['train'], imdb['test']\n",
    "\n",
    "training_sentences = []\n",
    "training_labels = []\n",
    "\n",
    "testing_sentences = []\n",
    "testing_labels = []\n",
    "\n",
    "# str(s.tonumpy()) is needed in Python3 instead of just s.numpy()\n",
    "for s,l in train_data:\n",
    "    training_sentences.append(s.numpy().decode('utf8'))\n",
    "    training_labels.append(l.numpy())\n",
    "\n",
    "for s,l in test_data:\n",
    "    testing_sentences.append(s.numpy().decode('utf8'))\n",
    "    testing_labels.append(l.numpy())\n",
    "\n",
    "training_labels_final = np.array(training_labels)\n",
    "testing_labels_final = np.array(testing_labels)"
   ]
  },
  {
   "cell_type": "code",
   "execution_count": 6,
   "metadata": {},
   "outputs": [
    {
     "data": {
      "text/plain": [
       "(25000,)"
      ]
     },
     "execution_count": 6,
     "metadata": {},
     "output_type": "execute_result"
    }
   ],
   "source": [
    "testing_labels_final.shape"
   ]
  },
  {
   "cell_type": "code",
   "execution_count": 7,
   "metadata": {},
   "outputs": [
    {
     "data": {
      "text/plain": [
       "(25000,)"
      ]
     },
     "execution_count": 7,
     "metadata": {},
     "output_type": "execute_result"
    }
   ],
   "source": [
    "training_labels_final.shape"
   ]
  },
  {
   "cell_type": "code",
   "execution_count": 8,
   "metadata": {},
   "outputs": [
    {
     "data": {
      "text/plain": [
       "{0, 1}"
      ]
     },
     "execution_count": 8,
     "metadata": {},
     "output_type": "execute_result"
    }
   ],
   "source": [
    "unique_labels = set(training_labels)\n",
    "unique_labels"
   ]
  },
  {
   "cell_type": "code",
   "execution_count": 9,
   "metadata": {},
   "outputs": [
    {
     "data": {
      "text/plain": [
       "{0, 1}"
      ]
     },
     "execution_count": 9,
     "metadata": {},
     "output_type": "execute_result"
    }
   ],
   "source": [
    "unique_labels = set(testing_labels)\n",
    "unique_labels"
   ]
  },
  {
   "cell_type": "code",
   "execution_count": 10,
   "metadata": {},
   "outputs": [
    {
     "data": {
      "text/plain": [
       "[\"This was an absolutely terrible movie. Don't be lured in by Christopher Walken or Michael Ironside. Both are great actors, but this must simply be their worst role in history. Even their great acting could not redeem this movie's ridiculous storyline. This movie is an early nineties US propaganda piece. The most pathetic scenes were those when the Columbian rebels were making their cases for revolutions. Maria Conchita Alonso appeared phony, and her pseudo-love affair with Walken was nothing but a pathetic emotional plug in a movie that was devoid of any real meaning. I am disappointed that there are movies like this, ruining actor's like Christopher Walken's good name. I could barely sit through it.\",\n",
       " 'I have been known to fall asleep during films, but this is usually due to a combination of things including, really tired, being warm and comfortable on the sette and having just eaten a lot. However on this occasion I fell asleep because the film was rubbish. The plot development was constant. Constantly slow and boring. Things seemed to happen, but with no explanation of what was causing them or why. I admit, I may have missed part of the film, but i watched the majority of it and everything just seemed to happen of its own accord without any real concern for anything else. I cant recommend this film at all.']"
      ]
     },
     "execution_count": 10,
     "metadata": {},
     "output_type": "execute_result"
    }
   ],
   "source": [
    "training_sentences[0:2]"
   ]
  },
  {
   "cell_type": "code",
   "execution_count": 11,
   "metadata": {},
   "outputs": [
    {
     "data": {
      "text/plain": [
       "[\"There are films that make careers. For George Romero, it was NIGHT OF THE LIVING DEAD; for Kevin Smith, CLERKS; for Robert Rodriguez, EL MARIACHI. Add to that list Onur Tukel's absolutely amazing DING-A-LING-LESS. Flawless film-making, and as assured and as professional as any of the aforementioned movies. I haven't laughed this hard since I saw THE FULL MONTY. (And, even then, I don't think I laughed quite this hard... So to speak.) Tukel's talent is considerable: DING-A-LING-LESS is so chock full of double entendres that one would have to sit down with a copy of this script and do a line-by-line examination of it to fully appreciate the, uh, breadth and width of it. Every shot is beautifully composed (a clear sign of a sure-handed director), and the performances all around are solid (there's none of the over-the-top scenery chewing one might've expected from a film like this). DING-A-LING-LESS is a film whose time has come.\",\n",
       " \"A blackly comic tale of a down-trodden priest, Nazarin showcases the economy that Luis Bunuel was able to achieve in being able to tell a deeply humanist fable with a minimum of fuss. As an output from his Mexican era of film making, it was an invaluable talent to possess, with little money and extremely tight schedules. Nazarin, however, surpasses many of Bunuel's previous Mexican films in terms of the acting (Francisco Rabal is excellent), narrative and theme.<br /><br />The theme, interestingly, is something that was explored again in Viridiana, made three years later in Spain. It concerns the individual's struggle for humanity and altruism amongst a society that rejects any notion of virtue. Father Nazarin, however, is portrayed more sympathetically than Sister Viridiana. Whereas the latter seems to choose charity because she wishes to atone for her (perceived) sins, Nazarin's whole existence and reason for being seems to be to help others, whether they (or we) like it or not. The film's last scenes, in which he casts doubt on his behaviour and, in a split second, has to choose between the life he has been leading or the conventional life that is expected of a priest, are so emotional because they concern his moral integrity and we are never quite sure whether it remains intact or not.<br /><br />This is a remarkable film and I would urge anyone interested in classic cinema to seek it out. It is one of Bunuel's most moving films, and encapsulates many of his obsessions: frustrated desire, mad love, religious hypocrisy etc. In my view 'Nazarin' is second only to 'The Exterminating Angel', in terms of his Mexican movies, and is certainly near the top of the list of Bunuel's total filmic output.\"]"
      ]
     },
     "execution_count": 11,
     "metadata": {},
     "output_type": "execute_result"
    }
   ],
   "source": [
    "testing_sentences[0:2]"
   ]
  },
  {
   "cell_type": "markdown",
   "metadata": {},
   "source": [
    "### Pre-processing"
   ]
  },
  {
   "cell_type": "code",
   "execution_count": 12,
   "metadata": {},
   "outputs": [
    {
     "name": "stdout",
     "output_type": "stream",
     "text": [
      "Words in the previously saved Tokenizer: 690961\n"
     ]
    }
   ],
   "source": [
    "embedding_dim = 100\n",
    "max_length = 100\n",
    "padding_type='post'\n",
    "trunc_type='post'\n",
    "oov_tok = \"<OOV>\"\n",
    "\n",
    "\n",
    "with open('saved_models/sentiment140_tokenizer.pickle', 'rb') as handle:\n",
    "    loaded_tokenizer = pickle.load(handle)\n",
    "\n",
    "print('Words in the previously saved Tokenizer: ' + str(len(loaded_tokenizer.word_index)))\n",
    "# loaded_tokenizer.fit_on_texts(training_sentences)\n",
    "\n",
    "sequences = loaded_tokenizer.texts_to_sequences(training_sentences)\n",
    "padded = pad_sequences(sequences, maxlen=max_length, padding=padding_type, truncating=trunc_type)\n",
    "\n",
    "word_index = loaded_tokenizer.word_index\n",
    "\n",
    "testing_sequences = loaded_tokenizer.texts_to_sequences(testing_sentences)\n",
    "testing_padded = pad_sequences(testing_sequences, maxlen=max_length, padding=padding_type, truncating=trunc_type)"
   ]
  },
  {
   "cell_type": "code",
   "execution_count": 13,
   "metadata": {},
   "outputs": [
    {
     "name": "stdout",
     "output_type": "stream",
     "text": [
      "(25000, 100)\n",
      "(25000, 100)\n"
     ]
    }
   ],
   "source": [
    "print(padded.shape)\n",
    "print(testing_padded.shape)"
   ]
  },
  {
   "cell_type": "code",
   "execution_count": 14,
   "metadata": {},
   "outputs": [
    {
     "name": "stdout",
     "output_type": "stream",
     "text": [
      "[('<OOV>', 1), ('i', 2), ('to', 3), ('the', 4), ('a', 5), ('my', 6), ('and', 7), ('you', 8), ('is', 9), ('it', 10), ('in', 11), ('for', 12), ('of', 13), ('on', 14), ('me', 15), ('so', 16), ('have', 17), ('that', 18), ('but', 19), (\"i'm\", 20)]\n"
     ]
    }
   ],
   "source": [
    "from itertools import islice\n",
    "\n",
    "def take(n, iterable):\n",
    "    \"Return first n items of the iterable as a list\"\n",
    "    return list(islice(iterable, n))\n",
    "\n",
    "n_items = take(20, word_index.items())\n",
    "print(n_items)"
   ]
  },
  {
   "cell_type": "code",
   "execution_count": 15,
   "metadata": {},
   "outputs": [],
   "source": [
    "# print(sequences[1])\n",
    "# print(padded[1])\n",
    "# print(testing_sequences[1])\n",
    "# print(testing_padded[1])"
   ]
  },
  {
   "cell_type": "code",
   "execution_count": 16,
   "metadata": {},
   "outputs": [
    {
     "name": "stdout",
     "output_type": "stream",
     "text": [
      "112\n",
      "100\n",
      "293\n",
      "100\n"
     ]
    }
   ],
   "source": [
    "print(len(sequences[1]))\n",
    "print(len(padded[1]))\n",
    "print(len(testing_sequences[1]))\n",
    "print(len(testing_padded[1]))"
   ]
  },
  {
   "cell_type": "code",
   "execution_count": 17,
   "metadata": {},
   "outputs": [
    {
     "name": "stdout",
     "output_type": "stream",
     "text": [
      "0\n",
      "1\n",
      "(25000,)\n",
      "(25000,)\n"
     ]
    }
   ],
   "source": [
    "print(training_labels_final[0])\n",
    "print(testing_labels_final[1])\n",
    "\n",
    "print(training_labels_final.shape)\n",
    "print(testing_labels_final.shape)"
   ]
  },
  {
   "cell_type": "markdown",
   "metadata": {},
   "source": [
    "### Load previously trained Model"
   ]
  },
  {
   "cell_type": "code",
   "execution_count": 18,
   "metadata": {},
   "outputs": [
    {
     "name": "stdout",
     "output_type": "stream",
     "text": [
      "Model: \"sequential\"\n",
      "_________________________________________________________________\n",
      "Layer (type)                 Output Shape              Param #   \n",
      "=================================================================\n",
      "embedding (Embedding)        (None, 16, 100)           69096200  \n",
      "_________________________________________________________________\n",
      "conv1d (Conv1D)              (None, 9, 32)             25632     \n",
      "_________________________________________________________________\n",
      "max_pooling1d (MaxPooling1D) (None, 4, 32)             0         \n",
      "_________________________________________________________________\n",
      "dropout (Dropout)            (None, 4, 32)             0         \n",
      "_________________________________________________________________\n",
      "lstm (LSTM)                  (None, 32)                8320      \n",
      "_________________________________________________________________\n",
      "flatten (Flatten)            (None, 32)                0         \n",
      "_________________________________________________________________\n",
      "dense (Dense)                (None, 16)                528       \n",
      "_________________________________________________________________\n",
      "dropout_1 (Dropout)          (None, 16)                0         \n",
      "_________________________________________________________________\n",
      "dense_1 (Dense)              (None, 1)                 17        \n",
      "=================================================================\n",
      "Total params: 69,130,697\n",
      "Trainable params: 34,497\n",
      "Non-trainable params: 69,096,200\n",
      "_________________________________________________________________\n"
     ]
    }
   ],
   "source": [
    "#pre_trained_model = tf.keras.models.load_model('saved_models/model_conv1D_LSTM')\n",
    "#pre_trained_model.load_weights(local_weights_file)\n",
    "\n",
    "pre_trained_model = tf.keras.models.load_model('saved_models/model_conv1D_LSTM_with_batch_100_epochs.h5')\n",
    "\n",
    "# Show the model architecture\n",
    "pre_trained_model.summary()"
   ]
  },
  {
   "cell_type": "code",
   "execution_count": 19,
   "metadata": {},
   "outputs": [
    {
     "name": "stdout",
     "output_type": "stream",
     "text": [
      "last layer output shape:  (None, 32)\n"
     ]
    }
   ],
   "source": [
    "last_layer = pre_trained_model.get_layer('lstm')\n",
    "print('last layer output shape: ', last_layer.output_shape)"
   ]
  },
  {
   "cell_type": "code",
   "execution_count": 20,
   "metadata": {},
   "outputs": [
    {
     "name": "stdout",
     "output_type": "stream",
     "text": [
      "Tensor(\"lstm/Identity:0\", shape=(None, 32), dtype=float32)\n"
     ]
    }
   ],
   "source": [
    "last_output = last_layer.output\n",
    "print(last_output)"
   ]
  },
  {
   "cell_type": "markdown",
   "metadata": {},
   "source": [
    "### Build new model"
   ]
  },
  {
   "cell_type": "code",
   "execution_count": 21,
   "metadata": {},
   "outputs": [
    {
     "name": "stdout",
     "output_type": "stream",
     "text": [
      "Model: \"model\"\n",
      "_________________________________________________________________\n",
      "Layer (type)                 Output Shape              Param #   \n",
      "=================================================================\n",
      "embedding_input (InputLayer) [(None, 16)]              0         \n",
      "_________________________________________________________________\n",
      "embedding (Embedding)        (None, 16, 100)           69096200  \n",
      "_________________________________________________________________\n",
      "conv1d (Conv1D)              (None, 9, 32)             25632     \n",
      "_________________________________________________________________\n",
      "max_pooling1d (MaxPooling1D) (None, 4, 32)             0         \n",
      "_________________________________________________________________\n",
      "dropout (Dropout)            (None, 4, 32)             0         \n",
      "_________________________________________________________________\n",
      "lstm (LSTM)                  (None, 32)                8320      \n",
      "_________________________________________________________________\n",
      "flatten (Flatten)            (None, 32)                0         \n",
      "_________________________________________________________________\n",
      "dense (Dense)                (None, 32)                1056      \n",
      "_________________________________________________________________\n",
      "dense_1 (Dense)              (None, 1)                 33        \n",
      "=================================================================\n",
      "Total params: 69,131,241\n",
      "Trainable params: 35,041\n",
      "Non-trainable params: 69,096,200\n",
      "_________________________________________________________________\n"
     ]
    }
   ],
   "source": [
    "from tensorflow.keras.optimizers import RMSprop\n",
    "\n",
    "# Flatten the output layer to 1 dimension\n",
    "# x = layers.Flatten()(last_output)\n",
    "# Add a fully connected layer with 1,024 hidden units and ReLU activation\n",
    "# x = layers.Dense(64, activation='relu')(last_output)\n",
    "# Add a dropout rate of 0.2\n",
    "# x = layers.Dropout(0.2)(x)                  \n",
    "# Add a final sigmoid layer for classification\n",
    "#x = layers.Dense(6, activation='softmax')(x)      \n",
    "\n",
    "x = layers.Flatten()(last_output)\n",
    "#x = layers.LSTM(64)(x)\n",
    "x = layers.Dense(32, activation='relu')(x)\n",
    "x = layers.Dense(1, activation='sigmoid')(x) \n",
    "\n",
    "model = Model(pre_trained_model.input, x)\n",
    "\n",
    "model.compile(loss='binary_crossentropy',optimizer='rmsprop',metrics=['acc'])\n",
    "\n",
    "model.summary()"
   ]
  },
  {
   "cell_type": "code",
   "execution_count": 22,
   "metadata": {},
   "outputs": [
    {
     "name": "stdout",
     "output_type": "stream",
     "text": [
      "Epoch 1/50\n",
      "WARNING:tensorflow:Model was constructed with shape (None, 16) for input Tensor(\"embedding_input:0\", shape=(None, 16), dtype=float32), but it was called on an input with incompatible shape (None, 100).\n"
     ]
    },
    {
     "name": "stderr",
     "output_type": "stream",
     "text": [
      "WARNING:tensorflow:Model was constructed with shape (None, 16) for input Tensor(\"embedding_input:0\", shape=(None, 16), dtype=float32), but it was called on an input with incompatible shape (None, 100).\n"
     ]
    },
    {
     "name": "stdout",
     "output_type": "stream",
     "text": [
      "WARNING:tensorflow:Model was constructed with shape (None, 16) for input Tensor(\"embedding_input:0\", shape=(None, 16), dtype=float32), but it was called on an input with incompatible shape (None, 100).\n"
     ]
    },
    {
     "name": "stderr",
     "output_type": "stream",
     "text": [
      "WARNING:tensorflow:Model was constructed with shape (None, 16) for input Tensor(\"embedding_input:0\", shape=(None, 16), dtype=float32), but it was called on an input with incompatible shape (None, 100).\n"
     ]
    },
    {
     "name": "stdout",
     "output_type": "stream",
     "text": [
      "WARNING:tensorflow:Model was constructed with shape (None, 16) for input Tensor(\"embedding_input:0\", shape=(None, 16), dtype=float32), but it was called on an input with incompatible shape (None, 100).\n"
     ]
    },
    {
     "name": "stderr",
     "output_type": "stream",
     "text": [
      "WARNING:tensorflow:Model was constructed with shape (None, 16) for input Tensor(\"embedding_input:0\", shape=(None, 16), dtype=float32), but it was called on an input with incompatible shape (None, 100).\n"
     ]
    },
    {
     "name": "stdout",
     "output_type": "stream",
     "text": [
      "782/782 - 14s - loss: 0.5790 - acc: 0.6975 - val_loss: 0.5890 - val_acc: 0.7016\n",
      "Epoch 2/50\n",
      "782/782 - 12s - loss: 0.4889 - acc: 0.7692 - val_loss: 0.5192 - val_acc: 0.7376\n",
      "Epoch 3/50\n",
      "782/782 - 12s - loss: 0.4582 - acc: 0.7841 - val_loss: 0.4402 - val_acc: 0.7959\n",
      "Epoch 4/50\n",
      "782/782 - 12s - loss: 0.4350 - acc: 0.8003 - val_loss: 0.4318 - val_acc: 0.8008\n",
      "Epoch 5/50\n",
      "782/782 - 12s - loss: 0.4141 - acc: 0.8117 - val_loss: 0.4309 - val_acc: 0.8012\n",
      "Epoch 6/50\n",
      "782/782 - 12s - loss: 0.3967 - acc: 0.8210 - val_loss: 0.5194 - val_acc: 0.7607\n",
      "Epoch 7/50\n",
      "782/782 - 12s - loss: 0.3817 - acc: 0.8282 - val_loss: 0.4561 - val_acc: 0.7784\n",
      "Epoch 8/50\n",
      "782/782 - 12s - loss: 0.3689 - acc: 0.8364 - val_loss: 0.4901 - val_acc: 0.7820\n",
      "Epoch 9/50\n",
      "782/782 - 12s - loss: 0.3535 - acc: 0.8457 - val_loss: 0.4289 - val_acc: 0.8064\n",
      "Epoch 10/50\n",
      "782/782 - 12s - loss: 0.3428 - acc: 0.8516 - val_loss: 0.4437 - val_acc: 0.7864\n",
      "Epoch 11/50\n",
      "782/782 - 12s - loss: 0.3295 - acc: 0.8568 - val_loss: 0.4422 - val_acc: 0.8052\n",
      "Epoch 12/50\n",
      "782/782 - 12s - loss: 0.3191 - acc: 0.8640 - val_loss: 0.4562 - val_acc: 0.7994\n",
      "Epoch 13/50\n",
      "782/782 - 12s - loss: 0.3040 - acc: 0.8720 - val_loss: 0.5729 - val_acc: 0.7615\n",
      "Epoch 14/50\n",
      "782/782 - 12s - loss: 0.2954 - acc: 0.8753 - val_loss: 0.5497 - val_acc: 0.7686\n",
      "Epoch 15/50\n",
      "782/782 - 12s - loss: 0.2903 - acc: 0.8772 - val_loss: 0.4412 - val_acc: 0.8002\n",
      "Epoch 16/50\n",
      "782/782 - 12s - loss: 0.2790 - acc: 0.8823 - val_loss: 0.4953 - val_acc: 0.7924\n",
      "Epoch 17/50\n",
      "782/782 - 12s - loss: 0.2634 - acc: 0.8907 - val_loss: 0.5973 - val_acc: 0.7589\n",
      "Epoch 18/50\n",
      "782/782 - 12s - loss: 0.2574 - acc: 0.8938 - val_loss: 0.5253 - val_acc: 0.7768\n",
      "Epoch 19/50\n",
      "782/782 - 12s - loss: 0.2514 - acc: 0.8963 - val_loss: 0.5259 - val_acc: 0.8030\n",
      "Epoch 20/50\n",
      "782/782 - 12s - loss: 0.2444 - acc: 0.9021 - val_loss: 0.5375 - val_acc: 0.7910\n",
      "Epoch 21/50\n",
      "782/782 - 12s - loss: 0.2401 - acc: 0.9022 - val_loss: 0.5117 - val_acc: 0.7820\n",
      "Epoch 22/50\n",
      "782/782 - 12s - loss: 0.2309 - acc: 0.9068 - val_loss: 0.6960 - val_acc: 0.7643\n",
      "Epoch 23/50\n",
      "782/782 - 12s - loss: 0.2251 - acc: 0.9100 - val_loss: 0.5666 - val_acc: 0.7768\n",
      "Epoch 24/50\n",
      "782/782 - 12s - loss: 0.2202 - acc: 0.9102 - val_loss: 0.5246 - val_acc: 0.7972\n",
      "Epoch 25/50\n",
      "782/782 - 12s - loss: 0.2144 - acc: 0.9144 - val_loss: 0.5475 - val_acc: 0.7863\n",
      "Epoch 26/50\n",
      "782/782 - 12s - loss: 0.2099 - acc: 0.9152 - val_loss: 0.7949 - val_acc: 0.7393\n",
      "Epoch 27/50\n",
      "782/782 - 12s - loss: 0.2048 - acc: 0.9187 - val_loss: 0.5963 - val_acc: 0.7800\n",
      "Epoch 28/50\n",
      "782/782 - 12s - loss: 0.2004 - acc: 0.9202 - val_loss: 0.5532 - val_acc: 0.7962\n",
      "Epoch 29/50\n",
      "782/782 - 12s - loss: 0.2000 - acc: 0.9210 - val_loss: 0.5706 - val_acc: 0.7900\n",
      "Epoch 30/50\n",
      "782/782 - 12s - loss: 0.1923 - acc: 0.9244 - val_loss: 0.5793 - val_acc: 0.7922\n",
      "Epoch 31/50\n",
      "782/782 - 12s - loss: 0.1879 - acc: 0.9259 - val_loss: 0.6208 - val_acc: 0.7909\n",
      "Epoch 32/50\n",
      "782/782 - 12s - loss: 0.1824 - acc: 0.9288 - val_loss: 0.6007 - val_acc: 0.7842\n",
      "Epoch 33/50\n",
      "782/782 - 12s - loss: 0.1753 - acc: 0.9291 - val_loss: 0.6383 - val_acc: 0.7884\n",
      "Epoch 34/50\n",
      "782/782 - 12s - loss: 0.1770 - acc: 0.9318 - val_loss: 0.6249 - val_acc: 0.7826\n",
      "Epoch 35/50\n",
      "782/782 - 12s - loss: 0.1747 - acc: 0.9307 - val_loss: 0.6017 - val_acc: 0.7928\n",
      "Epoch 36/50\n",
      "782/782 - 12s - loss: 0.1704 - acc: 0.9342 - val_loss: 0.7111 - val_acc: 0.7792\n",
      "Epoch 37/50\n",
      "782/782 - 12s - loss: 0.1714 - acc: 0.9326 - val_loss: 0.6294 - val_acc: 0.7934\n",
      "Epoch 38/50\n",
      "782/782 - 12s - loss: 0.1630 - acc: 0.9372 - val_loss: 0.6292 - val_acc: 0.7894\n",
      "Epoch 39/50\n",
      "782/782 - 12s - loss: 0.1551 - acc: 0.9413 - val_loss: 0.6173 - val_acc: 0.7876\n",
      "Epoch 40/50\n",
      "782/782 - 12s - loss: 0.1629 - acc: 0.9360 - val_loss: 0.6812 - val_acc: 0.7878\n",
      "Epoch 41/50\n",
      "782/782 - 12s - loss: 0.1592 - acc: 0.9380 - val_loss: 0.7093 - val_acc: 0.7816\n",
      "Epoch 42/50\n",
      "782/782 - 12s - loss: 0.1520 - acc: 0.9424 - val_loss: 0.6132 - val_acc: 0.7809\n",
      "Epoch 43/50\n",
      "782/782 - 12s - loss: 0.1489 - acc: 0.9432 - val_loss: 0.6997 - val_acc: 0.7752\n",
      "Epoch 44/50\n",
      "782/782 - 12s - loss: 0.1495 - acc: 0.9431 - val_loss: 0.6807 - val_acc: 0.7888\n",
      "Epoch 45/50\n",
      "782/782 - 12s - loss: 0.1461 - acc: 0.9431 - val_loss: 0.7005 - val_acc: 0.7823\n",
      "Epoch 46/50\n",
      "782/782 - 12s - loss: 0.1458 - acc: 0.9441 - val_loss: 0.8465 - val_acc: 0.7585\n",
      "Epoch 47/50\n",
      "782/782 - 12s - loss: 0.1436 - acc: 0.9434 - val_loss: 0.7402 - val_acc: 0.7850\n",
      "Epoch 48/50\n",
      "782/782 - 12s - loss: 0.1438 - acc: 0.9462 - val_loss: 0.7037 - val_acc: 0.7852\n",
      "Epoch 49/50\n",
      "782/782 - 12s - loss: 0.1434 - acc: 0.9457 - val_loss: 0.6593 - val_acc: 0.7886\n",
      "Epoch 50/50\n",
      "782/782 - 12s - loss: 0.1362 - acc: 0.9478 - val_loss: 0.7258 - val_acc: 0.7862\n"
     ]
    }
   ],
   "source": [
    "num_epochs = 50\n",
    "history = model.fit(padded, training_labels_final, epochs=num_epochs, validation_data=(testing_padded, testing_labels_final), verbose=2)\n"
   ]
  },
  {
   "cell_type": "code",
   "execution_count": 23,
   "metadata": {},
   "outputs": [],
   "source": [
    "#-----------------------------------------------------------\n",
    "# Retrieve a list of list results on training and test data\n",
    "# sets for each training epoch\n",
    "#-----------------------------------------------------------\n",
    "acc=history.history['acc']\n",
    "val_acc=history.history['val_acc']\n",
    "loss=history.history['loss']\n",
    "val_loss=history.history['val_loss']\n",
    "\n",
    "epochs=range(len(acc)) # Get number of epochs"
   ]
  },
  {
   "cell_type": "code",
   "execution_count": 24,
   "metadata": {},
   "outputs": [
    {
     "data": {
      "text/plain": [
       "<matplotlib.figure.Figure at 0x7f8d94dc12e8>"
      ]
     },
     "execution_count": 24,
     "metadata": {},
     "output_type": "execute_result"
    },
    {
     "data": {
      "image/png": "[encoded data removed]",
      "text/plain": [
       "<matplotlib.figure.Figure at 0x7f8d94e129e8>"
      ]
     },
     "metadata": {
      "needs_background": "light"
     },
     "output_type": "display_data"
    },
    {
     "data": {
      "text/plain": [
       "<matplotlib.figure.Figure at 0x7f8d94dc12e8>"
      ]
     },
     "metadata": {},
     "output_type": "display_data"
    }
   ],
   "source": [
    "#------------------------------------------------\n",
    "# Plot training and validation accuracy per epoch\n",
    "#------------------------------------------------\n",
    "plt.plot(epochs, acc, 'r')\n",
    "plt.plot(epochs, val_acc, 'b')\n",
    "plt.title('Training and validation accuracy')\n",
    "plt.xlabel(\"Epochs\")\n",
    "plt.ylabel(\"Accuracy\")\n",
    "plt.legend([\"Accuracy\", \"Validation Accuracy\"])\n",
    "\n",
    "plt.figure()"
   ]
  },
  {
   "cell_type": "code",
   "execution_count": 25,
   "metadata": {},
   "outputs": [
    {
     "data": {
      "text/plain": [
       "<matplotlib.figure.Figure at 0x7f8d94ce29e8>"
      ]
     },
     "execution_count": 25,
     "metadata": {},
     "output_type": "execute_result"
    },
    {
     "data": {
      "image/png": "[encoded data removed]",
      "text/plain": [
       "<matplotlib.figure.Figure at 0x7f8d94e376d8>"
      ]
     },
     "metadata": {
      "needs_background": "light"
     },
     "output_type": "display_data"
    },
    {
     "data": {
      "text/plain": [
       "<matplotlib.figure.Figure at 0x7f8d94ce29e8>"
      ]
     },
     "metadata": {},
     "output_type": "display_data"
    }
   ],
   "source": [
    "#------------------------------------------------\n",
    "# Plot training and validation loss per epoch\n",
    "#------------------------------------------------\n",
    "plt.plot(epochs, loss, 'r')\n",
    "plt.plot(epochs, val_loss, 'b')\n",
    "plt.title('Training and validation loss')\n",
    "plt.xlabel(\"Epochs\")\n",
    "plt.ylabel(\"Loss\")\n",
    "plt.legend([\"Loss\", \"Validation Loss\"])\n",
    "\n",
    "plt.figure()"
   ]
  },
  {
   "cell_type": "markdown",
   "metadata": {},
   "source": [
    "### Predictions"
   ]
  },
  {
   "cell_type": "code",
   "execution_count": 26,
   "metadata": {},
   "outputs": [],
   "source": [
    "def text_prep(sent):\n",
    "    print (\"Input Sentence: \" + sent)\n",
    "    sent = np.array([sent])\n",
    "    with open('saved_models/sentiment140_tokenizer.pickle', 'rb') as handle:\n",
    "        loaded_tokenizer = pickle.load(handle)\n",
    "    #loaded_tokenizer.fit_on_texts(sent)\n",
    "\n",
    "    sequences = loaded_tokenizer.texts_to_sequences(sent)\n",
    "    padded = pad_sequences(sequences, maxlen=max_length, padding=padding_type, truncating=trunc_type)\n",
    "    return padded\n",
    "\n",
    "def predict_sentiment(sent):\n",
    "#  sent = input(\"Enter a sentence: \")\n",
    "  #sent = \"I've had a long day!\"\n",
    "  #sent = \"The movie was inspired!\"\n",
    "    test_example = text_prep(sent)\n",
    "    pred_conf = model.predict(test_example)\n",
    "    pred_class = (model.predict(test_example) > 0.5).astype(\"int32\")\n",
    "    print(\"%s sentiment; %f%% confidence\" % (pred_class[0][0], pred_conf[0][np.argmax(pred_conf)] * 100))"
   ]
  },
  {
   "cell_type": "code",
   "execution_count": 27,
   "metadata": {},
   "outputs": [
    {
     "name": "stdout",
     "output_type": "stream",
     "text": [
      "Input Sentence: The movie was inspired!\n",
      "WARNING:tensorflow:Model was constructed with shape (None, 16) for input Tensor(\"embedding_input:0\", shape=(None, 16), dtype=float32), but it was called on an input with incompatible shape (None, 100).\n"
     ]
    },
    {
     "name": "stderr",
     "output_type": "stream",
     "text": [
      "WARNING:tensorflow:Model was constructed with shape (None, 16) for input Tensor(\"embedding_input:0\", shape=(None, 16), dtype=float32), but it was called on an input with incompatible shape (None, 100).\n"
     ]
    },
    {
     "name": "stdout",
     "output_type": "stream",
     "text": [
      "1 sentiment; 99.446857% confidence\n"
     ]
    }
   ],
   "source": [
    "test_sent = \"The movie was inspired!\"\n",
    "predict_sentiment(test_sent)"
   ]
  },
  {
   "cell_type": "code",
   "execution_count": 28,
   "metadata": {},
   "outputs": [
    {
     "name": "stdout",
     "output_type": "stream",
     "text": [
      "Input Sentence: The movie is a masterpiece and the acting was brilliant\n",
      "1 sentiment; 99.605238% confidence\n"
     ]
    }
   ],
   "source": [
    "test_sent = \"The movie is a masterpiece and the acting was brilliant\"\n",
    "predict_sentiment(test_sent)"
   ]
  },
  {
   "cell_type": "code",
   "execution_count": 29,
   "metadata": {},
   "outputs": [
    {
     "name": "stdout",
     "output_type": "stream",
     "text": [
      "Input Sentence: The story was convoluted and way too twisted\n",
      "0 sentiment; 4.981249% confidence\n"
     ]
    }
   ],
   "source": [
    "test_sent = \"The story was convoluted and way too twisted\"\n",
    "predict_sentiment(test_sent)"
   ]
  },
  {
   "cell_type": "code",
   "execution_count": 30,
   "metadata": {},
   "outputs": [
    {
     "name": "stdout",
     "output_type": "stream",
     "text": [
      "Input Sentence: What a waste of time!\n",
      "0 sentiment; 0.069640% confidence\n"
     ]
    }
   ],
   "source": [
    "test_sent = \"What a waste of time!\"\n",
    "predict_sentiment(test_sent)"
   ]
  },
  {
   "cell_type": "code",
   "execution_count": 31,
   "metadata": {},
   "outputs": [
    {
     "name": "stdout",
     "output_type": "stream",
     "text": [
      "Input Sentence: This was such a waste of time!\n",
      "0 sentiment; 0.114253% confidence\n"
     ]
    }
   ],
   "source": [
    "test_sent = \"This was such a waste of time!\"\n",
    "predict_sentiment(test_sent)"
   ]
  },
  {
   "cell_type": "code",
   "execution_count": 32,
   "metadata": {},
   "outputs": [
    {
     "name": "stdout",
     "output_type": "stream",
     "text": [
      "Input Sentence: Nolan is the greatest director I've known\n",
      "1 sentiment; 99.476349% confidence\n"
     ]
    }
   ],
   "source": [
    "test_sent = \"Nolan is the greatest director I've known\"\n",
    "predict_sentiment(test_sent)"
   ]
  },
  {
   "cell_type": "code",
   "execution_count": 33,
   "metadata": {},
   "outputs": [
    {
     "name": "stdout",
     "output_type": "stream",
     "text": [
      "Input Sentence: Shawshank might be a great movie, but you can't beat Interstellar!\n",
      "0 sentiment; 3.901092% confidence\n"
     ]
    }
   ],
   "source": [
    "test_sent = \"Shawshank might be a great movie, but you can't beat Interstellar!\"\n",
    "predict_sentiment(test_sent)"
   ]
  },
  {
   "cell_type": "code",
   "execution_count": 34,
   "metadata": {},
   "outputs": [
    {
     "name": "stdout",
     "output_type": "stream",
     "text": [
      "Input Sentence: It was too slow!\n",
      "0 sentiment; 3.833594% confidence\n"
     ]
    }
   ],
   "source": [
    "test_sent = \"It was too slow!\"\n",
    "predict_sentiment(test_sent)"
   ]
  },
  {
   "cell_type": "code",
   "execution_count": 35,
   "metadata": {},
   "outputs": [
    {
     "name": "stdout",
     "output_type": "stream",
     "text": [
      "Input Sentence: The Devil, indeed, was in the detail!\n",
      "1 sentiment; 95.571864% confidence\n"
     ]
    }
   ],
   "source": [
    "test_sent = \"The Devil, indeed, was in the detail!\"\n",
    "predict_sentiment(test_sent)"
   ]
  },
  {
   "cell_type": "code",
   "execution_count": 36,
   "metadata": {},
   "outputs": [
    {
     "name": "stdout",
     "output_type": "stream",
     "text": [
      "Input Sentence: Everybody at the theatre could not wait for it to be over\n",
      "0 sentiment; 3.957615% confidence\n"
     ]
    }
   ],
   "source": [
    "test_sent = \"Everybody at the theatre could not wait for it to be over\"\n",
    "predict_sentiment(test_sent)"
   ]
  },
  {
   "cell_type": "code",
   "execution_count": 37,
   "metadata": {},
   "outputs": [
    {
     "name": "stdout",
     "output_type": "stream",
     "text": [
      "Input Sentence: I admit, I may have missed part of the film, but i watched the majority of it and everything just seemed to happen of its own accord without any real concern for anything else.\n",
      "0 sentiment; 15.965901% confidence\n"
     ]
    }
   ],
   "source": [
    "test_sent = \"I admit, I may have missed part of the film, but i watched the majority of it and everything just seemed to happen of its own accord without any real concern for anything else.\"\n",
    "predict_sentiment(test_sent)"
   ]
  },
  {
   "cell_type": "code",
   "execution_count": 38,
   "metadata": {},
   "outputs": [
    {
     "name": "stdout",
     "output_type": "stream",
     "text": [
      "Input Sentence: The film's last scenes, in which he casts doubt on his behaviour and, in a split second, has to choose between the life he has been leading or the conventional life that is expected of a priest, are so emotional because they concern his moral integrity and we are never quite sure whether it remains intact or not.\n",
      "1 sentiment; 74.409443% confidence\n"
     ]
    }
   ],
   "source": [
    "test_sent = \"The film's last scenes, in which he casts doubt on his behaviour and, in a split second, has to choose between the life he has been leading or the conventional life that is expected of a priest, are so emotional because they concern his moral integrity and we are never quite sure whether it remains intact or not.\"\n",
    "predict_sentiment(test_sent)"
   ]
  },
  {
   "cell_type": "code",
   "execution_count": 39,
   "metadata": {},
   "outputs": [
    {
     "name": "stdout",
     "output_type": "stream",
     "text": [
      "Input Sentence: If you haven't seen this movie see it right now!\n",
      "1 sentiment; 71.349251% confidence\n"
     ]
    }
   ],
   "source": [
    "test_sent = \"If you haven't seen this movie see it right now!\"\n",
    "predict_sentiment(test_sent)"
   ]
  },
  {
   "cell_type": "code",
   "execution_count": 41,
   "metadata": {},
   "outputs": [
    {
     "name": "stdout",
     "output_type": "stream",
     "text": [
      "Input Sentence: I went into this not expecting to much but I came out blown away.\n",
      "0 sentiment; 3.981869% confidence\n"
     ]
    }
   ],
   "source": [
    "test_sent = \"I went into this not expecting to much but I came out blown away.\"\n",
    "predict_sentiment(test_sent)"
   ]
  },
  {
   "cell_type": "code",
   "execution_count": 43,
   "metadata": {},
   "outputs": [
    {
     "name": "stdout",
     "output_type": "stream",
     "text": [
      "Input Sentence: Film surpasses the hype!\n",
      "0 sentiment; 4.073040% confidence\n"
     ]
    }
   ],
   "source": [
    "test_sent = \"Film surpasses the hype!\"\n",
    "predict_sentiment(test_sent)"
   ]
  },
  {
   "cell_type": "code",
   "execution_count": 44,
   "metadata": {},
   "outputs": [
    {
     "name": "stdout",
     "output_type": "stream",
     "text": [
      "Input Sentence: It is a movie worth seeing due to the fact that the workers put so much time and effort into this one film and they did not want to waste money putting up garbage.\n",
      "1 sentiment; 56.815416% confidence\n"
     ]
    }
   ],
   "source": [
    "test_sent = \"It is a movie worth seeing due to the fact that the workers put so much time and effort into this one film and they did not want to waste money putting up garbage.\"\n",
    "predict_sentiment(test_sent)"
   ]
  },
  {
   "cell_type": "code",
   "execution_count": 45,
   "metadata": {},
   "outputs": [
    {
     "name": "stdout",
     "output_type": "stream",
     "text": [
      "Training Accuracy: 98.73999953269958 %\n",
      "Training Loss: 0.0479\n"
     ]
    }
   ],
   "source": [
    "results = model.evaluate(padded, training_labels_final, verbose=0)\n",
    "print(\"Training Accuracy: \"+ str(results[1]*100) + ' %')\n",
    "print(\"Training Loss: {:0.4f}\".format(results[0]))"
   ]
  },
  {
   "cell_type": "code",
   "execution_count": 46,
   "metadata": {},
   "outputs": [
    {
     "name": "stdout",
     "output_type": "stream",
     "text": [
      "Validation Accuracy: 78.61599922180176 %\n",
      "Validation Loss: 0.7258\n"
     ]
    }
   ],
   "source": [
    "val_results = model.evaluate(testing_padded, testing_labels_final, verbose=0)\n",
    "print(\"Validation Accuracy: \" + str(val_results[1]*100) + ' %')\n",
    "print(\"Validation Loss: {:0.4f}\".format(val_results[0]))"
   ]
  },
  {
   "cell_type": "code",
   "execution_count": 47,
   "metadata": {},
   "outputs": [],
   "source": [
    "# def test_preproc(sent):\n",
    "#     print (\"Input Sentence: \" + sent)\n",
    "#     sent = np.array([sent])\n",
    "#     with open('saved_models/sentiment140_tokenizer.pickle', 'rb') as handle:\n",
    "#         loaded_tokenizer = pickle.load(handle)\n",
    "#     #loaded_tokenizer.fit_on_texts(sent)\n",
    "\n",
    "#     sequences = loaded_tokenizer.texts_to_sequences(sent)\n",
    "#     print(sequences)\n",
    "#     padded = pad_sequences(sequences, maxlen=max_length, padding=padding_type, truncating=trunc_type)\n",
    "#     print(padded)\n",
    "#     return padded\n",
    "\n",
    "# def test_prediction(sent):\n",
    "# #  sent = input(\"Enter a sentence: \")\n",
    "#   #sent = \"I've had a long day!\"\n",
    "#   #sent = \"The movie was inspired!\"\n",
    "#     test_example = test_preproc(sent)\n",
    "#     pred_conf = model.predict(test_example)\n",
    "#     pred_class = (model.predict(test_example) > 0.5).astype(\"int32\")\n",
    "#     print(\"%s sentiment; %f%% confidence\" % (pred_class[0][0], pred_conf[0][np.argmax(pred_conf)] * 100))"
   ]
  },
  {
   "cell_type": "code",
   "execution_count": 48,
   "metadata": {},
   "outputs": [],
   "source": [
    "# test_sent = \"The movie showed an invaluable talent\"\n",
    "# test_prediction(test_sent)"
   ]
  },
  {
   "cell_type": "code",
   "execution_count": 49,
   "metadata": {},
   "outputs": [],
   "source": [
    "# word_index['talent']"
   ]
  },
  {
   "cell_type": "code",
   "execution_count": null,
   "metadata": {},
   "outputs": [],
   "source": []
  }
 ],
 "metadata": {
  "kernelspec": {
   "display_name": "Python 3",
   "language": "python",
   "name": "python3"
  },
  "language_info": {
   "codemirror_mode": {
    "name": "ipython",
    "version": 3
   },
   "file_extension": ".py",
   "mimetype": "text/x-python",
   "name": "python",
   "nbconvert_exporter": "python",
   "pygments_lexer": "ipython3",
   "version": "3.6.9"
  }
 },
 "nbformat": 4,
 "nbformat_minor": 2
}
