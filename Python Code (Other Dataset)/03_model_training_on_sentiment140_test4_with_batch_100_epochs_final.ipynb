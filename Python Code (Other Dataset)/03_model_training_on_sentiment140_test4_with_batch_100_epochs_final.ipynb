{
 "cells": [
  {
   "cell_type": "markdown",
   "metadata": {},
   "source": [
    "### Install and Import Tensorflow"
   ]
  },
  {
   "cell_type": "code",
   "execution_count": 1,
   "metadata": {},
   "outputs": [
    {
     "name": "stdout",
     "output_type": "stream",
     "text": [
      "2.2.0\n"
     ]
    }
   ],
   "source": [
    "#!pip3 install --upgrade pip\n",
    "#!pip --version\n",
    "#!pip3 install tensorflow\n",
    "#!pip3 install tensorflow-gpu\n",
    "#!pip3 list | grep \"tensorflow\"\n",
    "import tensorflow as tf\n",
    "print(tf.__version__)"
   ]
  },
  {
   "cell_type": "code",
   "execution_count": 2,
   "metadata": {},
   "outputs": [],
   "source": [
    "import csv\n",
    "import json\n",
    "import tensorflow as tf\n",
    "import random\n",
    "import numpy as np\n",
    "\n",
    "from tensorflow.keras.preprocessing.text import Tokenizer\n",
    "from tensorflow.keras.preprocessing.sequence import pad_sequences\n",
    "from tensorflow.keras.layers import Embedding, LSTM, Dense, Dropout, Bidirectional\n",
    "from tensorflow.keras.utils import to_categorical\n",
    "from tensorflow.keras import regularizers"
   ]
  },
  {
   "cell_type": "code",
   "execution_count": 3,
   "metadata": {},
   "outputs": [
    {
     "name": "stdout",
     "output_type": "stream",
     "text": [
      "/home/cdsw/sentiment_analysis\r\n"
     ]
    }
   ],
   "source": [
    "!pwd"
   ]
  },
  {
   "cell_type": "markdown",
   "metadata": {},
   "source": [
    "### Download the Sentiment140 data"
   ]
  },
  {
   "cell_type": "code",
   "execution_count": 4,
   "metadata": {},
   "outputs": [
    {
     "name": "stdout",
     "output_type": "stream",
     "text": [
      "--2020-09-15 14:48:29--  http://cs.stanford.edu/people/alecmgo/trainingandtestdata.zip\n",
      "Resolving cs.stanford.edu (cs.stanford.edu)... 171.64.64.64\n",
      "Connecting to cs.stanford.edu (cs.stanford.edu)|171.64.64.64|:80... connected.\n",
      "HTTP request sent, awaiting response... 301 Moved Permanently\n",
      "Location: https://cs.stanford.edu/people/alecmgo/trainingandtestdata.zip [following]\n",
      "--2020-09-15 14:48:29--  https://cs.stanford.edu/people/alecmgo/trainingandtestdata.zip\n",
      "Connecting to cs.stanford.edu (cs.stanford.edu)|171.64.64.64|:443... connected.\n",
      "HTTP request sent, awaiting response... 200 OK\n",
      "Length: 81363704 (78M) [application/zip]\n",
      "Saving to: ‘trainingandtestdata.zip’\n",
      "\n",
      "trainingandtestdata 100%[===================>]  77.59M  47.7MB/s    in 1.6s    \n",
      "\n",
      "2020-09-15 14:48:31 (47.7 MB/s) - ‘trainingandtestdata.zip’ saved [81363704/81363704]\n",
      "\n"
     ]
    }
   ],
   "source": [
    "##Download from the Stanford link\n",
    "!wget http://cs.stanford.edu/people/alecmgo/trainingandtestdata.zip -o data/sentiment140_training_and_test_data.zip\n",
    "# Move the file to the \"data\" folder and rename it to 'sentiment140_training_and_test_data.zip'"
   ]
  },
  {
   "cell_type": "code",
   "execution_count": 5,
   "metadata": {},
   "outputs": [],
   "source": [
    "##Unzip\n",
    "import zipfile\n",
    "with zipfile.ZipFile(\"data/sentiment140_training_and_test_data.zip\",\"r\") as zip_ref:\n",
    "    zip_ref.extractall(\"data/sentiment140_unzipped\")"
   ]
  },
  {
   "cell_type": "code",
   "execution_count": 6,
   "metadata": {},
   "outputs": [],
   "source": [
    "##Remove the LATIN1 encoding to make it easier for Python CSV reader\n",
    "!iconv -f LATIN1 -t UTF8 data/sentiment140_unzipped/training.1600000.processed.noemoticon.csv -o data/sentiment140_cleaned.csv\n"
   ]
  },
  {
   "cell_type": "code",
   "execution_count": 7,
   "metadata": {},
   "outputs": [],
   "source": [
    "embedding_dim = 100\n",
    "max_length = 16\n",
    "trunc_type='post'\n",
    "padding_type='post'\n",
    "oov_tok = \"<OOV>\"\n",
    "training_size=1600000\n",
    "test_portion=.1"
   ]
  },
  {
   "cell_type": "code",
   "execution_count": 8,
   "metadata": {},
   "outputs": [
    {
     "name": "stdout",
     "output_type": "stream",
     "text": [
      "Positive : 800000\n",
      "Negative : 800000\n",
      "Neutral : 0\n"
     ]
    }
   ],
   "source": [
    "count_positive = 0\n",
    "count_neutral = 0\n",
    "count_negative = 0\n",
    "\n",
    "with open(\"data/sentiment140_cleaned.csv\") as csvfile:\n",
    "    reader = csv.reader(csvfile, delimiter=',')\n",
    "    for row in reader:\n",
    "        label_only=row[0]\n",
    "        if label_only=='0':\n",
    "            count_negative = count_negative + 1\n",
    "        elif label_only=='2':\n",
    "            count_neutral = count_neutral + 1\n",
    "        else:\n",
    "            count_positive = count_positive + 1\n",
    "\n",
    "print(\"Positive : \" + str(count_positive))\n",
    "print(\"Negative : \" + str(count_negative))\n",
    "print(\"Neutral : \" + str(count_neutral))"
   ]
  },
  {
   "cell_type": "code",
   "execution_count": 9,
   "metadata": {},
   "outputs": [],
   "source": [
    "num_sentences = 0\n",
    "corpus = []\n",
    "\n",
    "with open(\"data/sentiment140_cleaned.csv\") as csvfile:\n",
    "    reader = csv.reader(csvfile, delimiter=',')\n",
    "    for row in reader:\n",
    "        text_and_label=[]\n",
    "        text_and_label.append(row[5])\n",
    "        label_only=row[0]\n",
    "        if label_only=='0':\n",
    "            text_and_label.append(0)\n",
    "        else:\n",
    "            text_and_label.append(1)\n",
    "        num_sentences = num_sentences + 1\n",
    "        corpus.append(text_and_label)"
   ]
  },
  {
   "cell_type": "code",
   "execution_count": 10,
   "metadata": {},
   "outputs": [
    {
     "name": "stdout",
     "output_type": "stream",
     "text": [
      "1600000\n",
      "1600000\n",
      "[\"@alydesigns i was out most of the day so didn't get much done \", 0]\n"
     ]
    }
   ],
   "source": [
    "print(num_sentences)\n",
    "print(len(corpus))\n",
    "print(corpus[20])"
   ]
  },
  {
   "cell_type": "code",
   "execution_count": 11,
   "metadata": {},
   "outputs": [
    {
     "data": {
      "text/plain": [
       "{0, 1}"
      ]
     },
     "execution_count": 11,
     "metadata": {},
     "output_type": "execute_result"
    }
   ],
   "source": [
    "all_labels = [item[1] for item in corpus]\n",
    "unique_labels = set(all_labels)\n",
    "unique_labels"
   ]
  },
  {
   "cell_type": "markdown",
   "metadata": {},
   "source": [
    "### Data Preparation"
   ]
  },
  {
   "cell_type": "code",
   "execution_count": 12,
   "metadata": {},
   "outputs": [],
   "source": [
    "all_sentences=[]\n",
    "all_labels=[]\n",
    "random.shuffle(corpus)\n",
    "for x in range(training_size):\n",
    "    all_sentences.append(corpus[x][0])\n",
    "    all_labels.append(corpus[x][1])\n",
    "\n",
    "\n",
    "tokenizer = Tokenizer(oov_token=oov_tok)\n",
    "tokenizer.fit_on_texts(all_sentences)\n",
    "\n",
    "word_index = tokenizer.word_index\n",
    "vocab_size=len(word_index)\n",
    "\n",
    "sent_sequences = tokenizer.texts_to_sequences(all_sentences)\n",
    "padded_sent = pad_sequences(sent_sequences, maxlen=max_length, padding=padding_type, truncating=trunc_type)\n",
    "\n",
    "split = int(test_portion * training_size)\n",
    "\n",
    "test_sequences = padded_sent[0:split]\n",
    "training_sequences = padded_sent[split:training_size]\n",
    "test_labels = all_labels[0:split]\n",
    "training_labels = all_labels[split:training_size]"
   ]
  },
  {
   "cell_type": "code",
   "execution_count": 13,
   "metadata": {},
   "outputs": [
    {
     "name": "stdout",
     "output_type": "stream",
     "text": [
      "<class 'numpy.ndarray'>\n",
      "<class 'list'>\n"
     ]
    }
   ],
   "source": [
    "print(type(training_sequences))\n",
    "print(type(training_labels))"
   ]
  },
  {
   "cell_type": "code",
   "execution_count": 14,
   "metadata": {},
   "outputs": [
    {
     "name": "stdout",
     "output_type": "stream",
     "text": [
      "(1440000, 16)\n",
      "1440000\n",
      "(160000, 16)\n",
      "160000\n"
     ]
    }
   ],
   "source": [
    "print(training_sequences.shape)\n",
    "print(len(training_labels))\n",
    "print(test_sequences.shape)\n",
    "print(len(test_labels))"
   ]
  },
  {
   "cell_type": "code",
   "execution_count": 15,
   "metadata": {},
   "outputs": [
    {
     "name": "stdout",
     "output_type": "stream",
     "text": [
      "690961\n",
      "4\n",
      "1\n"
     ]
    }
   ],
   "source": [
    "print(vocab_size)\n",
    "print(word_index['the'])\n",
    "print(word_index['<OOV>'])"
   ]
  },
  {
   "cell_type": "markdown",
   "metadata": {},
   "source": [
    "### GloVe Embeddings"
   ]
  },
  {
   "cell_type": "code",
   "execution_count": 16,
   "metadata": {},
   "outputs": [
    {
     "name": "stdout",
     "output_type": "stream",
     "text": [
      "--2020-09-15 14:51:55--  http://nlp.stanford.edu/data/glove.6B.zip\n",
      "Resolving nlp.stanford.edu (nlp.stanford.edu)... 171.64.67.140\n",
      "Connecting to nlp.stanford.edu (nlp.stanford.edu)|171.64.67.140|:80... connected.\n",
      "HTTP request sent, awaiting response... 302 Found\n",
      "Location: https://nlp.stanford.edu/data/glove.6B.zip [following]\n",
      "--2020-09-15 14:51:55--  https://nlp.stanford.edu/data/glove.6B.zip\n",
      "Connecting to nlp.stanford.edu (nlp.stanford.edu)|171.64.67.140|:443... connected.\n",
      "HTTP request sent, awaiting response... 301 Moved Permanently\n",
      "Location: http://downloads.cs.stanford.edu/nlp/data/glove.6B.zip [following]\n",
      "--2020-09-15 14:51:56--  http://downloads.cs.stanford.edu/nlp/data/glove.6B.zip\n",
      "Resolving downloads.cs.stanford.edu (downloads.cs.stanford.edu)... 171.64.64.22\n",
      "Connecting to downloads.cs.stanford.edu (downloads.cs.stanford.edu)|171.64.64.22|:80... connected.\n",
      "HTTP request sent, awaiting response... 200 OK\n",
      "Length: 862182613 (822M) [application/zip]\n",
      "Saving to: ‘embeddings/glove.6B.zip’\n",
      "\n",
      "embeddings/glove.6B 100%[===================>] 822.24M  2.19MB/s    in 6m 28s  \n",
      "\n",
      "2020-09-15 14:58:24 (2.12 MB/s) - ‘embeddings/glove.6B.zip’ saved [862182613/862182613]\n",
      "\n"
     ]
    }
   ],
   "source": [
    "!wget http://nlp.stanford.edu/data/glove.6B.zip -O embeddings/glove.6B.zip"
   ]
  },
  {
   "cell_type": "code",
   "execution_count": 17,
   "metadata": {},
   "outputs": [],
   "source": [
    "##Unzip\n",
    "import zipfile\n",
    "with zipfile.ZipFile(\"embeddings/glove.6B.zip\",\"r\") as zip_ref:\n",
    "    zip_ref.extractall(\"embeddings/glove_6B\")"
   ]
  },
  {
   "cell_type": "code",
   "execution_count": 18,
   "metadata": {},
   "outputs": [],
   "source": [
    "embedding_dict = {};\n",
    "with open('embeddings/glove_6B/glove.6B.100d.txt') as f:\n",
    "    for item in f:\n",
    "        embed_items = item.split();\n",
    "        word = embed_items[0];\n",
    "        word_vec = np.asarray(embed_items[1:], dtype='float32');\n",
    "        embedding_dict[word] = word_vec;\n",
    "\n",
    "embedding_matrix = np.zeros((vocab_size+1, embedding_dim));\n",
    "for word, i in word_index.items():\n",
    "    embedding_vector = embedding_dict.get(word);\n",
    "    if embedding_vector is not None:\n",
    "        embedding_matrix[i] = embedding_vector;"
   ]
  },
  {
   "cell_type": "code",
   "execution_count": 19,
   "metadata": {},
   "outputs": [
    {
     "data": {
      "text/plain": [
       "(690962, 100)"
      ]
     },
     "execution_count": 19,
     "metadata": {},
     "output_type": "execute_result"
    }
   ],
   "source": [
    "embedding_matrix.shape"
   ]
  },
  {
   "cell_type": "code",
   "execution_count": 20,
   "metadata": {},
   "outputs": [
    {
     "data": {
      "text/plain": [
       "690961"
      ]
     },
     "execution_count": 20,
     "metadata": {},
     "output_type": "execute_result"
    }
   ],
   "source": [
    "vocab_size"
   ]
  },
  {
   "cell_type": "code",
   "execution_count": 21,
   "metadata": {},
   "outputs": [
    {
     "name": "stdout",
     "output_type": "stream",
     "text": [
      "[('<OOV>', 1), ('i', 2), ('to', 3), ('the', 4), ('a', 5), ('my', 6), ('and', 7), ('you', 8), ('is', 9), ('it', 10), ('in', 11), ('for', 12), ('of', 13), ('on', 14), ('me', 15), ('so', 16), ('have', 17), ('that', 18), ('but', 19), (\"i'm\", 20)]\n"
     ]
    }
   ],
   "source": [
    "from itertools import islice\n",
    "\n",
    "def take(n, iterable):\n",
    "    return list(islice(iterable, n))\n",
    "\n",
    "n_items = take(20, word_index.items())\n",
    "print(n_items)"
   ]
  },
  {
   "cell_type": "code",
   "execution_count": 22,
   "metadata": {},
   "outputs": [
    {
     "name": "stdout",
     "output_type": "stream",
     "text": [
      "20\n",
      "152\n"
     ]
    }
   ],
   "source": [
    "print(word_index[\"i'm\"])\n",
    "print(word_index[\"i've\"])"
   ]
  },
  {
   "cell_type": "code",
   "execution_count": 23,
   "metadata": {},
   "outputs": [
    {
     "data": {
      "text/plain": [
       "array([ 0.080273 , -0.10861  ,  0.72067  , -0.45136  , -0.7496   ,\n",
       "        0.63782  , -0.25705  ,  0.41606  , -0.054465 ,  0.35563  ,\n",
       "        0.35864  ,  0.54004  ,  0.4912   ,  0.25711  , -0.21468  ,\n",
       "       -0.42837  , -0.42318  ,  0.3872   , -0.35692  ,  0.40116  ,\n",
       "       -0.19851  ,  0.43449  , -0.36478  ,  0.07172  ,  0.53324  ,\n",
       "        0.84556  , -0.6754   , -1.2527   ,  0.83759  , -0.15925  ,\n",
       "        0.37801  ,  0.94539  ,  0.83069  ,  0.19429  , -0.58449  ,\n",
       "        0.5828   , -0.62559  ,  0.4904   ,  0.43273  , -0.54246  ,\n",
       "        0.1045   , -0.16255  ,  0.98995  , -0.74219  , -0.59784  ,\n",
       "        0.10189  , -0.3357   , -0.39094  ,  0.15132  , -1.3533   ,\n",
       "       -0.11264  ,  0.14345  ,  0.038112 ,  1.1167   , -0.23078  ,\n",
       "       -2.6394   ,  0.66849  ,  0.48452  ,  1.8796   ,  0.080274 ,\n",
       "        0.73728  ,  1.8058   , -0.51933  ,  0.0040521,  0.76986  ,\n",
       "        0.36875  ,  0.81137  ,  0.16941  , -0.1192   , -0.26496  ,\n",
       "        0.22689  ,  0.76942  ,  0.85197  , -0.97773  ,  0.23177  ,\n",
       "        0.88144  , -0.2709   , -0.39914  , -0.57188  ,  0.075573 ,\n",
       "        0.18093  ,  0.59041  , -0.1343   , -0.12058  , -1.8157   ,\n",
       "       -0.355    , -0.31721  , -0.27044  , -0.67226  , -0.040986 ,\n",
       "       -0.4433   ,  0.35649  ,  1.0247   ,  0.49685  , -0.51696  ,\n",
       "       -0.49276  , -0.33402  , -0.34842  ,  0.31466  ,  1.0087   ],\n",
       "      dtype=float32)"
      ]
     },
     "execution_count": 23,
     "metadata": {},
     "output_type": "execute_result"
    }
   ],
   "source": [
    "embedding_dict['my']"
   ]
  },
  {
   "cell_type": "code",
   "execution_count": 24,
   "metadata": {},
   "outputs": [
    {
     "data": {
      "text/plain": [
       "array([-0.27085999,  0.044006  , -0.02026   , -0.17395   ,  0.6444    ,\n",
       "        0.71213001,  0.35510001,  0.47138   , -0.29637   ,  0.54426998,\n",
       "       -0.72294003, -0.0047612 ,  0.040611  ,  0.043236  ,  0.29729   ,\n",
       "        0.10725   ,  0.40156001, -0.53662002,  0.033382  ,  0.067396  ,\n",
       "        0.64556003, -0.085523  ,  0.14103   ,  0.094539  ,  0.74947   ,\n",
       "       -0.19400001, -0.68739003, -0.41740999, -0.22807001,  0.12      ,\n",
       "       -0.48999   ,  0.80944997,  0.045138  , -0.11898   ,  0.20161   ,\n",
       "        0.39276001, -0.20121001,  0.31354001,  0.75304002,  0.25907001,\n",
       "       -0.11566   , -0.029319  ,  0.93498999, -0.36067   ,  0.52420002,\n",
       "        0.23706   ,  0.52714998,  0.22869   , -0.51958001, -0.79348999,\n",
       "       -0.20367999, -0.50186998,  0.18748   ,  0.94282001, -0.44834   ,\n",
       "       -3.67919993,  0.044183  , -0.26751   ,  2.19970012,  0.241     ,\n",
       "       -0.033425  ,  0.69553   , -0.64472002, -0.0072277 ,  0.89574999,\n",
       "        0.20015   ,  0.46493   ,  0.61932999, -0.1066    ,  0.08691   ,\n",
       "       -0.4623    ,  0.18262   , -0.15849   ,  0.020791  ,  0.19373   ,\n",
       "        0.063426  , -0.31672999, -0.48177001, -1.38479996,  0.13669001,\n",
       "        0.96859002,  0.049965  , -0.27379999, -0.035686  , -1.05770004,\n",
       "       -0.24467   ,  0.90366   , -0.12442   ,  0.080776  , -0.83401   ,\n",
       "        0.57200998,  0.088945  , -0.42532   , -0.018253  , -0.079995  ,\n",
       "       -0.28580999, -0.01089   , -0.4923    ,  0.63687003,  0.23642001])"
      ]
     },
     "execution_count": 24,
     "metadata": {},
     "output_type": "execute_result"
    }
   ],
   "source": [
    "embedding_matrix[5]"
   ]
  },
  {
   "cell_type": "markdown",
   "metadata": {},
   "source": [
    "### Build Model and Train"
   ]
  },
  {
   "cell_type": "code",
   "execution_count": 25,
   "metadata": {},
   "outputs": [
    {
     "name": "stdout",
     "output_type": "stream",
     "text": [
      "Model: \"sequential\"\n",
      "_________________________________________________________________\n",
      "Layer (type)                 Output Shape              Param #   \n",
      "=================================================================\n",
      "embedding (Embedding)        (None, 16, 100)           69096200  \n",
      "_________________________________________________________________\n",
      "conv1d (Conv1D)              (None, 9, 32)             25632     \n",
      "_________________________________________________________________\n",
      "max_pooling1d (MaxPooling1D) (None, 4, 32)             0         \n",
      "_________________________________________________________________\n",
      "dropout (Dropout)            (None, 4, 32)             0         \n",
      "_________________________________________________________________\n",
      "lstm (LSTM)                  (None, 32)                8320      \n",
      "_________________________________________________________________\n",
      "flatten (Flatten)            (None, 32)                0         \n",
      "_________________________________________________________________\n",
      "dense (Dense)                (None, 16)                528       \n",
      "_________________________________________________________________\n",
      "dropout_1 (Dropout)          (None, 16)                0         \n",
      "_________________________________________________________________\n",
      "dense_1 (Dense)              (None, 1)                 17        \n",
      "=================================================================\n",
      "Total params: 69,130,697\n",
      "Trainable params: 34,497\n",
      "Non-trainable params: 69,096,200\n",
      "_________________________________________________________________\n"
     ]
    }
   ],
   "source": [
    "model = tf.keras.Sequential([\n",
    "    tf.keras.layers.Embedding(vocab_size+1, embedding_dim, input_length=max_length, weights=[embedding_matrix], trainable=False),\n",
    "    tf.keras.layers.Conv1D(32, 8, activation='relu'),\n",
    "    tf.keras.layers.MaxPooling1D(pool_size=2),\n",
    "    tf.keras.layers.Dropout(0.2),\n",
    "    tf.keras.layers.LSTM(32),\n",
    "    tf.keras.layers.Flatten(),\n",
    "    tf.keras.layers.Dense(16, activation = 'relu'),\n",
    "    tf.keras.layers.Dropout(0.4),\n",
    "    tf.keras.layers.Dense(1, activation='sigmoid')\n",
    "])\n",
    "model.compile(loss='binary_crossentropy',optimizer='adam',metrics=['acc'])\n",
    "model.summary()"
   ]
  },
  {
   "cell_type": "code",
   "execution_count": 26,
   "metadata": {},
   "outputs": [
    {
     "name": "stdout",
     "output_type": "stream",
     "text": [
      "Epoch 1/100\n",
      "90/90 - 6s - loss: 0.6284 - acc: 0.6500 - val_loss: 0.5651 - val_acc: 0.7065\n",
      "Epoch 2/100\n",
      "90/90 - 5s - loss: 0.5646 - acc: 0.7133 - val_loss: 0.5342 - val_acc: 0.7272\n",
      "Epoch 3/100\n",
      "90/90 - 5s - loss: 0.5450 - acc: 0.7273 - val_loss: 0.5218 - val_acc: 0.7363\n",
      "Epoch 4/100\n",
      "90/90 - 5s - loss: 0.5344 - acc: 0.7355 - val_loss: 0.5142 - val_acc: 0.7414\n",
      "Epoch 5/100\n",
      "90/90 - 5s - loss: 0.5281 - acc: 0.7400 - val_loss: 0.5095 - val_acc: 0.7449\n",
      "Epoch 6/100\n",
      "90/90 - 5s - loss: 0.5229 - acc: 0.7434 - val_loss: 0.5049 - val_acc: 0.7485\n",
      "Epoch 7/100\n",
      "90/90 - 5s - loss: 0.5193 - acc: 0.7459 - val_loss: 0.5015 - val_acc: 0.7501\n",
      "Epoch 8/100\n",
      "90/90 - 5s - loss: 0.5163 - acc: 0.7482 - val_loss: 0.4991 - val_acc: 0.7515\n",
      "Epoch 9/100\n",
      "90/90 - 5s - loss: 0.5138 - acc: 0.7498 - val_loss: 0.4973 - val_acc: 0.7532\n",
      "Epoch 10/100\n",
      "90/90 - 5s - loss: 0.5113 - acc: 0.7513 - val_loss: 0.4951 - val_acc: 0.7551\n",
      "Epoch 11/100\n",
      "90/90 - 5s - loss: 0.5096 - acc: 0.7525 - val_loss: 0.4962 - val_acc: 0.7539\n",
      "Epoch 12/100\n",
      "90/90 - 5s - loss: 0.5085 - acc: 0.7534 - val_loss: 0.4951 - val_acc: 0.7552\n",
      "Epoch 13/100\n",
      "90/90 - 5s - loss: 0.5073 - acc: 0.7543 - val_loss: 0.4921 - val_acc: 0.7581\n",
      "Epoch 14/100\n",
      "90/90 - 5s - loss: 0.5057 - acc: 0.7551 - val_loss: 0.4916 - val_acc: 0.7573\n",
      "Epoch 15/100\n",
      "90/90 - 5s - loss: 0.5050 - acc: 0.7557 - val_loss: 0.4903 - val_acc: 0.7589\n",
      "Epoch 16/100\n",
      "90/90 - 5s - loss: 0.5036 - acc: 0.7562 - val_loss: 0.4904 - val_acc: 0.7583\n",
      "Epoch 17/100\n",
      "90/90 - 5s - loss: 0.5026 - acc: 0.7572 - val_loss: 0.4904 - val_acc: 0.7587\n",
      "Epoch 18/100\n",
      "90/90 - 5s - loss: 0.5017 - acc: 0.7576 - val_loss: 0.4884 - val_acc: 0.7607\n",
      "Epoch 19/100\n",
      "90/90 - 5s - loss: 0.5012 - acc: 0.7579 - val_loss: 0.4888 - val_acc: 0.7610\n",
      "Epoch 20/100\n",
      "90/90 - 5s - loss: 0.5001 - acc: 0.7582 - val_loss: 0.4869 - val_acc: 0.7615\n",
      "Epoch 21/100\n",
      "90/90 - 5s - loss: 0.4990 - acc: 0.7592 - val_loss: 0.4876 - val_acc: 0.7606\n",
      "Epoch 22/100\n",
      "90/90 - 5s - loss: 0.4983 - acc: 0.7594 - val_loss: 0.4872 - val_acc: 0.7601\n",
      "Epoch 23/100\n",
      "90/90 - 5s - loss: 0.4976 - acc: 0.7602 - val_loss: 0.4854 - val_acc: 0.7619\n",
      "Epoch 24/100\n",
      "90/90 - 5s - loss: 0.4969 - acc: 0.7607 - val_loss: 0.4861 - val_acc: 0.7621\n",
      "Epoch 25/100\n",
      "90/90 - 5s - loss: 0.4967 - acc: 0.7604 - val_loss: 0.4860 - val_acc: 0.7615\n",
      "Epoch 26/100\n",
      "90/90 - 5s - loss: 0.4968 - acc: 0.7605 - val_loss: 0.4846 - val_acc: 0.7623\n",
      "Epoch 27/100\n",
      "90/90 - 5s - loss: 0.4949 - acc: 0.7614 - val_loss: 0.4847 - val_acc: 0.7628\n",
      "Epoch 28/100\n",
      "90/90 - 5s - loss: 0.4944 - acc: 0.7620 - val_loss: 0.4836 - val_acc: 0.7636\n",
      "Epoch 29/100\n",
      "90/90 - 5s - loss: 0.4941 - acc: 0.7620 - val_loss: 0.4836 - val_acc: 0.7630\n",
      "Epoch 30/100\n",
      "90/90 - 5s - loss: 0.4937 - acc: 0.7622 - val_loss: 0.4838 - val_acc: 0.7632\n",
      "Epoch 31/100\n",
      "90/90 - 5s - loss: 0.4935 - acc: 0.7624 - val_loss: 0.4832 - val_acc: 0.7644\n",
      "Epoch 32/100\n",
      "90/90 - 5s - loss: 0.4929 - acc: 0.7625 - val_loss: 0.4824 - val_acc: 0.7646\n",
      "Epoch 33/100\n",
      "90/90 - 5s - loss: 0.4928 - acc: 0.7629 - val_loss: 0.4843 - val_acc: 0.7624\n",
      "Epoch 34/100\n",
      "90/90 - 5s - loss: 0.4923 - acc: 0.7632 - val_loss: 0.4821 - val_acc: 0.7640\n",
      "Epoch 35/100\n",
      "90/90 - 5s - loss: 0.4919 - acc: 0.7632 - val_loss: 0.4816 - val_acc: 0.7646\n",
      "Epoch 36/100\n",
      "90/90 - 5s - loss: 0.4920 - acc: 0.7635 - val_loss: 0.4821 - val_acc: 0.7642\n",
      "Epoch 37/100\n",
      "90/90 - 5s - loss: 0.4911 - acc: 0.7637 - val_loss: 0.4817 - val_acc: 0.7654\n",
      "Epoch 38/100\n",
      "90/90 - 5s - loss: 0.4909 - acc: 0.7637 - val_loss: 0.4818 - val_acc: 0.7637\n",
      "Epoch 39/100\n",
      "90/90 - 5s - loss: 0.4907 - acc: 0.7640 - val_loss: 0.4829 - val_acc: 0.7632\n",
      "Epoch 40/100\n",
      "90/90 - 5s - loss: 0.4900 - acc: 0.7640 - val_loss: 0.4816 - val_acc: 0.7641\n",
      "Epoch 41/100\n",
      "90/90 - 5s - loss: 0.4903 - acc: 0.7640 - val_loss: 0.4808 - val_acc: 0.7647\n",
      "Epoch 42/100\n",
      "90/90 - 5s - loss: 0.4899 - acc: 0.7643 - val_loss: 0.4819 - val_acc: 0.7646\n",
      "Epoch 43/100\n",
      "90/90 - 5s - loss: 0.4895 - acc: 0.7646 - val_loss: 0.4811 - val_acc: 0.7646\n",
      "Epoch 44/100\n",
      "90/90 - 5s - loss: 0.4896 - acc: 0.7645 - val_loss: 0.4806 - val_acc: 0.7654\n",
      "Epoch 45/100\n",
      "90/90 - 5s - loss: 0.4891 - acc: 0.7646 - val_loss: 0.4802 - val_acc: 0.7660\n",
      "Epoch 46/100\n",
      "90/90 - 5s - loss: 0.4887 - acc: 0.7653 - val_loss: 0.4816 - val_acc: 0.7641\n",
      "Epoch 47/100\n",
      "90/90 - 5s - loss: 0.4885 - acc: 0.7654 - val_loss: 0.4803 - val_acc: 0.7657\n",
      "Epoch 48/100\n",
      "90/90 - 5s - loss: 0.4884 - acc: 0.7652 - val_loss: 0.4809 - val_acc: 0.7642\n",
      "Epoch 49/100\n",
      "90/90 - 5s - loss: 0.4883 - acc: 0.7653 - val_loss: 0.4802 - val_acc: 0.7657\n",
      "Epoch 50/100\n",
      "90/90 - 5s - loss: 0.4879 - acc: 0.7658 - val_loss: 0.4797 - val_acc: 0.7656\n",
      "Epoch 51/100\n",
      "90/90 - 5s - loss: 0.4877 - acc: 0.7658 - val_loss: 0.4798 - val_acc: 0.7664\n",
      "Epoch 52/100\n",
      "90/90 - 5s - loss: 0.4876 - acc: 0.7660 - val_loss: 0.4797 - val_acc: 0.7658\n",
      "Epoch 53/100\n",
      "90/90 - 5s - loss: 0.4874 - acc: 0.7663 - val_loss: 0.4797 - val_acc: 0.7664\n",
      "Epoch 54/100\n",
      "90/90 - 5s - loss: 0.4870 - acc: 0.7659 - val_loss: 0.4803 - val_acc: 0.7658\n",
      "Epoch 55/100\n",
      "90/90 - 5s - loss: 0.4870 - acc: 0.7659 - val_loss: 0.4795 - val_acc: 0.7657\n",
      "Epoch 56/100\n",
      "90/90 - 5s - loss: 0.4867 - acc: 0.7663 - val_loss: 0.4796 - val_acc: 0.7657\n",
      "Epoch 57/100\n",
      "90/90 - 5s - loss: 0.4870 - acc: 0.7662 - val_loss: 0.4791 - val_acc: 0.7662\n",
      "Epoch 58/100\n",
      "90/90 - 5s - loss: 0.4865 - acc: 0.7663 - val_loss: 0.4792 - val_acc: 0.7662\n",
      "Epoch 59/100\n",
      "90/90 - 5s - loss: 0.4864 - acc: 0.7667 - val_loss: 0.4793 - val_acc: 0.7661\n",
      "Epoch 60/100\n",
      "90/90 - 5s - loss: 0.4864 - acc: 0.7664 - val_loss: 0.4799 - val_acc: 0.7652\n",
      "Epoch 61/100\n",
      "90/90 - 5s - loss: 0.4867 - acc: 0.7664 - val_loss: 0.4785 - val_acc: 0.7669\n",
      "Epoch 62/100\n",
      "90/90 - 5s - loss: 0.4859 - acc: 0.7669 - val_loss: 0.4787 - val_acc: 0.7662\n",
      "Epoch 63/100\n",
      "90/90 - 5s - loss: 0.4856 - acc: 0.7672 - val_loss: 0.4786 - val_acc: 0.7665\n",
      "Epoch 64/100\n",
      "90/90 - 5s - loss: 0.4857 - acc: 0.7667 - val_loss: 0.4791 - val_acc: 0.7654\n",
      "Epoch 65/100\n",
      "90/90 - 5s - loss: 0.4858 - acc: 0.7667 - val_loss: 0.4785 - val_acc: 0.7665\n",
      "Epoch 66/100\n",
      "90/90 - 5s - loss: 0.4854 - acc: 0.7669 - val_loss: 0.4793 - val_acc: 0.7658\n",
      "Epoch 67/100\n",
      "90/90 - 5s - loss: 0.4854 - acc: 0.7674 - val_loss: 0.4787 - val_acc: 0.7666\n",
      "Epoch 68/100\n",
      "90/90 - 5s - loss: 0.4857 - acc: 0.7673 - val_loss: 0.4790 - val_acc: 0.7662\n",
      "Epoch 69/100\n",
      "90/90 - 5s - loss: 0.4845 - acc: 0.7679 - val_loss: 0.4787 - val_acc: 0.7664\n",
      "Epoch 70/100\n",
      "90/90 - 5s - loss: 0.4854 - acc: 0.7671 - val_loss: 0.4781 - val_acc: 0.7666\n",
      "Epoch 71/100\n",
      "90/90 - 5s - loss: 0.4850 - acc: 0.7673 - val_loss: 0.4778 - val_acc: 0.7670\n",
      "Epoch 72/100\n",
      "90/90 - 5s - loss: 0.4844 - acc: 0.7675 - val_loss: 0.4781 - val_acc: 0.7664\n",
      "Epoch 73/100\n",
      "90/90 - 5s - loss: 0.4843 - acc: 0.7681 - val_loss: 0.4774 - val_acc: 0.7668\n",
      "Epoch 74/100\n",
      "90/90 - 5s - loss: 0.4845 - acc: 0.7673 - val_loss: 0.4779 - val_acc: 0.7661\n",
      "Epoch 75/100\n",
      "90/90 - 5s - loss: 0.4845 - acc: 0.7679 - val_loss: 0.4775 - val_acc: 0.7664\n",
      "Epoch 76/100\n",
      "90/90 - 5s - loss: 0.4842 - acc: 0.7681 - val_loss: 0.4779 - val_acc: 0.7666\n",
      "Epoch 77/100\n",
      "90/90 - 5s - loss: 0.4843 - acc: 0.7681 - val_loss: 0.4782 - val_acc: 0.7665\n",
      "Epoch 78/100\n",
      "90/90 - 5s - loss: 0.4838 - acc: 0.7682 - val_loss: 0.4772 - val_acc: 0.7668\n",
      "Epoch 79/100\n",
      "90/90 - 5s - loss: 0.4839 - acc: 0.7680 - val_loss: 0.4780 - val_acc: 0.7659\n",
      "Epoch 80/100\n",
      "90/90 - 5s - loss: 0.4838 - acc: 0.7683 - val_loss: 0.4798 - val_acc: 0.7637\n",
      "Epoch 81/100\n",
      "90/90 - 5s - loss: 0.4841 - acc: 0.7680 - val_loss: 0.4787 - val_acc: 0.7660\n",
      "Epoch 82/100\n",
      "90/90 - 5s - loss: 0.4837 - acc: 0.7683 - val_loss: 0.4806 - val_acc: 0.7639\n",
      "Epoch 83/100\n",
      "90/90 - 5s - loss: 0.4837 - acc: 0.7684 - val_loss: 0.4779 - val_acc: 0.7668\n",
      "Epoch 84/100\n",
      "90/90 - 5s - loss: 0.4830 - acc: 0.7687 - val_loss: 0.4781 - val_acc: 0.7659\n",
      "Epoch 85/100\n",
      "90/90 - 5s - loss: 0.4831 - acc: 0.7684 - val_loss: 0.4789 - val_acc: 0.7653\n",
      "Epoch 86/100\n",
      "90/90 - 5s - loss: 0.4832 - acc: 0.7689 - val_loss: 0.4778 - val_acc: 0.7661\n",
      "Epoch 87/100\n",
      "90/90 - 5s - loss: 0.4831 - acc: 0.7687 - val_loss: 0.4775 - val_acc: 0.7663\n",
      "Epoch 88/100\n",
      "90/90 - 5s - loss: 0.4829 - acc: 0.7692 - val_loss: 0.4779 - val_acc: 0.7662\n",
      "Epoch 89/100\n",
      "90/90 - 5s - loss: 0.4832 - acc: 0.7688 - val_loss: 0.4775 - val_acc: 0.7667\n",
      "Epoch 90/100\n",
      "90/90 - 5s - loss: 0.4832 - acc: 0.7690 - val_loss: 0.4774 - val_acc: 0.7663\n",
      "Epoch 91/100\n",
      "90/90 - 5s - loss: 0.4826 - acc: 0.7688 - val_loss: 0.4772 - val_acc: 0.7665\n",
      "Epoch 92/100\n"
     ]
    },
    {
     "name": "stdout",
     "output_type": "stream",
     "text": [
      "90/90 - 5s - loss: 0.4826 - acc: 0.7692 - val_loss: 0.4781 - val_acc: 0.7663\n",
      "Epoch 93/100\n",
      "90/90 - 5s - loss: 0.4826 - acc: 0.7689 - val_loss: 0.4773 - val_acc: 0.7667\n",
      "Epoch 94/100\n",
      "90/90 - 5s - loss: 0.4825 - acc: 0.7692 - val_loss: 0.4777 - val_acc: 0.7665\n",
      "Epoch 95/100\n",
      "90/90 - 5s - loss: 0.4823 - acc: 0.7692 - val_loss: 0.4777 - val_acc: 0.7663\n",
      "Epoch 96/100\n",
      "90/90 - 5s - loss: 0.4825 - acc: 0.7693 - val_loss: 0.4770 - val_acc: 0.7671\n",
      "Epoch 97/100\n",
      "90/90 - 5s - loss: 0.4822 - acc: 0.7695 - val_loss: 0.4779 - val_acc: 0.7657\n",
      "Epoch 98/100\n",
      "90/90 - 5s - loss: 0.4826 - acc: 0.7692 - val_loss: 0.4799 - val_acc: 0.7638\n",
      "Epoch 99/100\n",
      "90/90 - 5s - loss: 0.4824 - acc: 0.7690 - val_loss: 0.4767 - val_acc: 0.7669\n",
      "Epoch 100/100\n",
      "90/90 - 5s - loss: 0.4821 - acc: 0.7693 - val_loss: 0.4771 - val_acc: 0.7672\n",
      "Training Complete!\n"
     ]
    }
   ],
   "source": [
    "num_epochs = 100\n",
    "batch_size = 16000\n",
    "history = model.fit(np.array(training_sequences), np.array(training_labels), batch_size=batch_size, epochs=num_epochs, validation_data=(np.array(test_sequences), np.array(test_labels)), verbose=2)\n",
    "\n",
    "print(\"Training Complete!\")"
   ]
  },
  {
   "cell_type": "code",
   "execution_count": 27,
   "metadata": {},
   "outputs": [],
   "source": [
    "import matplotlib.image  as mpimg\n",
    "import matplotlib.pyplot as plt\n",
    "\n",
    "#-----------------------------------------------------------\n",
    "# Retrieve a list of list results on training and test data\n",
    "# sets for each training epoch\n",
    "#-----------------------------------------------------------\n",
    "acc=history.history['acc']\n",
    "val_acc=history.history['val_acc']\n",
    "loss=history.history['loss']\n",
    "val_loss=history.history['val_loss']\n",
    "\n",
    "epochs=range(len(acc)) # Get number of epochs"
   ]
  },
  {
   "cell_type": "code",
   "execution_count": 28,
   "metadata": {},
   "outputs": [
    {
     "data": {
      "text/plain": [
       "<matplotlib.figure.Figure at 0x7fb9b4179198>"
      ]
     },
     "execution_count": 28,
     "metadata": {},
     "output_type": "execute_result"
    },
    {
     "data": {
      "image/png": "[encoded data removed]",
      "text/plain": [
       "<matplotlib.figure.Figure at 0x7fba3e4f6c18>"
      ]
     },
     "metadata": {
      "needs_background": "light"
     },
     "output_type": "display_data"
    },
    {
     "data": {
      "text/plain": [
       "<matplotlib.figure.Figure at 0x7fb9b4179198>"
      ]
     },
     "metadata": {},
     "output_type": "display_data"
    }
   ],
   "source": [
    "#------------------------------------------------\n",
    "# Plot training and validation accuracy per epoch\n",
    "#------------------------------------------------\n",
    "plt.plot(epochs, acc, 'r')\n",
    "plt.plot(epochs, val_acc, 'b')\n",
    "plt.title('Training and validation accuracy')\n",
    "plt.xlabel(\"Epochs\")\n",
    "plt.ylabel(\"Accuracy\")\n",
    "plt.legend([\"Accuracy\", \"Validation Accuracy\"])\n",
    "\n",
    "plt.figure()"
   ]
  },
  {
   "cell_type": "code",
   "execution_count": 29,
   "metadata": {},
   "outputs": [
    {
     "data": {
      "text/plain": [
       "<matplotlib.figure.Figure at 0x7fb9b4074390>"
      ]
     },
     "execution_count": 29,
     "metadata": {},
     "output_type": "execute_result"
    },
    {
     "data": {
      "image/png": "[encoded data removed]",
      "text/plain": [
       "<matplotlib.figure.Figure at 0x7fba1406ada0>"
      ]
     },
     "metadata": {
      "needs_background": "light"
     },
     "output_type": "display_data"
    },
    {
     "data": {
      "text/plain": [
       "<matplotlib.figure.Figure at 0x7fb9b4074390>"
      ]
     },
     "metadata": {},
     "output_type": "display_data"
    }
   ],
   "source": [
    "#------------------------------------------------\n",
    "# Plot training and validation loss per epoch\n",
    "#------------------------------------------------\n",
    "plt.plot(epochs, loss, 'r')\n",
    "plt.plot(epochs, val_loss, 'b')\n",
    "plt.title('Training and validation loss')\n",
    "plt.xlabel(\"Epochs\")\n",
    "plt.ylabel(\"Loss\")\n",
    "plt.legend([\"Loss\", \"Validation Loss\"])\n",
    "\n",
    "plt.figure()"
   ]
  },
  {
   "cell_type": "markdown",
   "metadata": {},
   "source": [
    "### Save the Model"
   ]
  },
  {
   "cell_type": "code",
   "execution_count": 30,
   "metadata": {},
   "outputs": [],
   "source": [
    "#!mkdir -p saved_models"
   ]
  },
  {
   "cell_type": "code",
   "execution_count": 31,
   "metadata": {},
   "outputs": [
    {
     "name": "stdout",
     "output_type": "stream",
     "text": [
      "WARNING:tensorflow:From /home/cdsw/.local/lib/python3.6/site-packages/tensorflow/python/ops/resource_variable_ops.py:1817: calling BaseResourceVariable.__init__ (from tensorflow.python.ops.resource_variable_ops) with constraint is deprecated and will be removed in a future version.\n",
      "Instructions for updating:\n",
      "If using Keras pass *_constraint arguments to layers.\n",
      "INFO:tensorflow:Assets written to: saved_models/model_conv1D_LSTM_with_batch_100_epochs_all/assets\n"
     ]
    }
   ],
   "source": [
    "##Save the model\n",
    "model.save('saved_models/model_conv1D_LSTM_with_batch_100_epochs_all')"
   ]
  },
  {
   "cell_type": "code",
   "execution_count": 32,
   "metadata": {},
   "outputs": [
    {
     "name": "stdout",
     "output_type": "stream",
     "text": [
      "Model: \"sequential\"\n",
      "_________________________________________________________________\n",
      "Layer (type)                 Output Shape              Param #   \n",
      "=================================================================\n",
      "embedding (Embedding)        (None, 16, 100)           69096200  \n",
      "_________________________________________________________________\n",
      "conv1d (Conv1D)              (None, 9, 32)             25632     \n",
      "_________________________________________________________________\n",
      "max_pooling1d (MaxPooling1D) (None, 4, 32)             0         \n",
      "_________________________________________________________________\n",
      "dropout (Dropout)            (None, 4, 32)             0         \n",
      "_________________________________________________________________\n",
      "lstm (LSTM)                  (None, 32)                8320      \n",
      "_________________________________________________________________\n",
      "flatten (Flatten)            (None, 32)                0         \n",
      "_________________________________________________________________\n",
      "dense (Dense)                (None, 16)                528       \n",
      "_________________________________________________________________\n",
      "dropout_1 (Dropout)          (None, 16)                0         \n",
      "_________________________________________________________________\n",
      "dense_1 (Dense)              (None, 1)                 17        \n",
      "=================================================================\n",
      "Total params: 69,130,697\n",
      "Trainable params: 69,130,697\n",
      "Non-trainable params: 0\n",
      "_________________________________________________________________\n"
     ]
    }
   ],
   "source": [
    "new_model = tf.keras.models.load_model('saved_models/model_conv1D_LSTM_with_batch_100_epochs_all')\n",
    "\n",
    "# Check its architecture\n",
    "new_model.summary()"
   ]
  },
  {
   "cell_type": "markdown",
   "metadata": {},
   "source": [
    "### H5 format"
   ]
  },
  {
   "cell_type": "code",
   "execution_count": 33,
   "metadata": {},
   "outputs": [],
   "source": [
    "import h5py\n",
    "\n",
    "#Save the model as an h5 file\n",
    "model.save('saved_models/model_conv1D_LSTM_with_batch_100_epochs.h5')"
   ]
  },
  {
   "cell_type": "code",
   "execution_count": 34,
   "metadata": {},
   "outputs": [
    {
     "name": "stdout",
     "output_type": "stream",
     "text": [
      "Model: \"sequential\"\n",
      "_________________________________________________________________\n",
      "Layer (type)                 Output Shape              Param #   \n",
      "=================================================================\n",
      "embedding (Embedding)        (None, 16, 100)           69096200  \n",
      "_________________________________________________________________\n",
      "conv1d (Conv1D)              (None, 9, 32)             25632     \n",
      "_________________________________________________________________\n",
      "max_pooling1d (MaxPooling1D) (None, 4, 32)             0         \n",
      "_________________________________________________________________\n",
      "dropout (Dropout)            (None, 4, 32)             0         \n",
      "_________________________________________________________________\n",
      "lstm (LSTM)                  (None, 32)                8320      \n",
      "_________________________________________________________________\n",
      "flatten (Flatten)            (None, 32)                0         \n",
      "_________________________________________________________________\n",
      "dense (Dense)                (None, 16)                528       \n",
      "_________________________________________________________________\n",
      "dropout_1 (Dropout)          (None, 16)                0         \n",
      "_________________________________________________________________\n",
      "dense_1 (Dense)              (None, 1)                 17        \n",
      "=================================================================\n",
      "Total params: 69,130,697\n",
      "Trainable params: 34,497\n",
      "Non-trainable params: 69,096,200\n",
      "_________________________________________________________________\n"
     ]
    }
   ],
   "source": [
    "# Recreate the exact same model, including its weights and the optimizer\n",
    "model_h5 = tf.keras.models.load_model('saved_models/model_conv1D_LSTM_with_batch_100_epochs.h5')\n",
    "\n",
    "# Show the model architecture\n",
    "model_h5.summary()"
   ]
  },
  {
   "cell_type": "markdown",
   "metadata": {},
   "source": [
    "### Saving the Tokenizer"
   ]
  },
  {
   "cell_type": "code",
   "execution_count": 35,
   "metadata": {},
   "outputs": [],
   "source": [
    "import pickle\n",
    "\n",
    "# saving\n",
    "with open('saved_models/sentiment140_tokenizer.pickle', 'wb') as handle:\n",
    "    pickle.dump(tokenizer, handle, protocol=pickle.HIGHEST_PROTOCOL)"
   ]
  },
  {
   "cell_type": "code",
   "execution_count": 36,
   "metadata": {},
   "outputs": [],
   "source": [
    "# loading\n",
    "with open('saved_models/sentiment140_tokenizer.pickle', 'rb') as handle:\n",
    "    loaded_tokenizer = pickle.load(handle)"
   ]
  },
  {
   "cell_type": "code",
   "execution_count": 37,
   "metadata": {},
   "outputs": [
    {
     "name": "stdout",
     "output_type": "stream",
     "text": [
      "[('<OOV>', 1), ('i', 2), ('to', 3), ('the', 4), ('a', 5), ('my', 6), ('and', 7), ('you', 8), ('is', 9), ('it', 10), ('in', 11), ('for', 12), ('of', 13), ('on', 14), ('me', 15), ('so', 16), ('have', 17), ('that', 18), ('but', 19), (\"i'm\", 20)]\n"
     ]
    }
   ],
   "source": [
    "loaded_word_index = loaded_tokenizer.word_index\n",
    "n_items = take(20, loaded_word_index.items())\n",
    "print(n_items)"
   ]
  },
  {
   "cell_type": "markdown",
   "metadata": {},
   "source": [
    "### Predictions"
   ]
  },
  {
   "cell_type": "code",
   "execution_count": 38,
   "metadata": {},
   "outputs": [
    {
     "name": "stdout",
     "output_type": "stream",
     "text": [
      "Training Accuracy: 78.174096% \n"
     ]
    }
   ],
   "source": [
    "train_loss, train_acc = model.evaluate(np.array(training_sequences), np.array(training_labels), verbose=0)\n",
    "print('Training Accuracy: %f%% ' % (train_acc*100))"
   ]
  },
  {
   "cell_type": "code",
   "execution_count": 39,
   "metadata": {},
   "outputs": [
    {
     "name": "stdout",
     "output_type": "stream",
     "text": [
      "Test Accuracy: 76.720625% \n"
     ]
    }
   ],
   "source": [
    "loss, acc = model.evaluate(np.array(test_sequences), np.array(test_labels), verbose=0)\n",
    "print('Test Accuracy: %f%% ' % (acc*100))"
   ]
  },
  {
   "cell_type": "code",
   "execution_count": 40,
   "metadata": {},
   "outputs": [],
   "source": [
    "def text_prep(sent):\n",
    "    sent = np.array([sent])\n",
    "    sequences = tokenizer.texts_to_sequences(sent)\n",
    "    padded = pad_sequences(sequences, maxlen=max_length, padding=padding_type, truncating=trunc_type)\n",
    "    return padded"
   ]
  },
  {
   "cell_type": "code",
   "execution_count": 41,
   "metadata": {},
   "outputs": [
    {
     "name": "stdout",
     "output_type": "stream",
     "text": [
      "1 sentiment; 98.026890% confidence\n"
     ]
    }
   ],
   "source": [
    "test_example = text_prep(\"What a great and beautiful day\")\n",
    "pred_conf = model.predict(test_example)\n",
    "pred_class = (model.predict(test_example) > 0.5).astype(\"int32\")\n",
    "print(\"%s sentiment; %f%% confidence\" % (pred_class[0][0], pred_conf[0][np.argmax(pred_conf)] * 100))"
   ]
  },
  {
   "cell_type": "code",
   "execution_count": 42,
   "metadata": {},
   "outputs": [
    {
     "name": "stdout",
     "output_type": "stream",
     "text": [
      "0 sentiment; 1.002248% confidence\n"
     ]
    }
   ],
   "source": [
    "test_example = text_prep(\"I'm having a terrible day!\")\n",
    "pred_conf = model.predict(test_example)\n",
    "pred_class = (model.predict(test_example) > 0.5).astype(\"int32\")\n",
    "print(\"%s sentiment; %f%% confidence\" % (pred_class[0][0], pred_conf[0][np.argmax(pred_conf)] * 100))"
   ]
  },
  {
   "cell_type": "code",
   "execution_count": 43,
   "metadata": {},
   "outputs": [
    {
     "name": "stdout",
     "output_type": "stream",
     "text": [
      "1 sentiment; 96.461350% confidence\n"
     ]
    }
   ],
   "source": [
    "test_example = text_prep(\"I'm having an awesome day\")\n",
    "pred_conf = model.predict(test_example)\n",
    "pred_class = (model.predict(test_example) > 0.5).astype(\"int32\")\n",
    "print(\"%s sentiment; %f%% confidence\" % (pred_class[0][0], pred_conf[0][np.argmax(pred_conf)] * 100))"
   ]
  },
  {
   "cell_type": "code",
   "execution_count": 44,
   "metadata": {},
   "outputs": [
    {
     "name": "stdout",
     "output_type": "stream",
     "text": [
      "1 sentiment; 50.211382% confidence\n"
     ]
    }
   ],
   "source": [
    "test_example = text_prep(\"I've had a long day!\")\n",
    "pred_conf = model.predict(test_example)\n",
    "pred_class = (model.predict(test_example) > 0.5).astype(\"int32\")\n",
    "print(\"%s sentiment; %f%% confidence\" % (pred_class[0][0], pred_conf[0][np.argmax(pred_conf)] * 100))"
   ]
  },
  {
   "cell_type": "code",
   "execution_count": 45,
   "metadata": {},
   "outputs": [
    {
     "name": "stdout",
     "output_type": "stream",
     "text": [
      "0 sentiment; 3.646842% confidence\n"
     ]
    }
   ],
   "source": [
    "test_example = text_prep(\"This is a bad example\")\n",
    "pred_conf = model.predict(test_example)\n",
    "pred_class = (model.predict(test_example) > 0.5).astype(\"int32\")\n",
    "print(\"%s sentiment; %f%% confidence\" % (pred_class[0][0], pred_conf[0][np.argmax(pred_conf)] * 100))"
   ]
  },
  {
   "cell_type": "code",
   "execution_count": 46,
   "metadata": {},
   "outputs": [
    {
     "name": "stdout",
     "output_type": "stream",
     "text": [
      "0 sentiment; 4.250034% confidence\n"
     ]
    }
   ],
   "source": [
    "test_example = text_prep(\"This is the worst ice-cream I've had\")\n",
    "pred_conf = model.predict(test_example)\n",
    "pred_class = (model.predict(test_example) > 0.5).astype(\"int32\")\n",
    "print(\"%s sentiment; %f%% confidence\" % (pred_class[0][0], pred_conf[0][np.argmax(pred_conf)] * 100))"
   ]
  },
  {
   "cell_type": "code",
   "execution_count": 47,
   "metadata": {},
   "outputs": [
    {
     "name": "stdout",
     "output_type": "stream",
     "text": [
      "0 sentiment; 1.498488% confidence\n"
     ]
    }
   ],
   "source": [
    "test_example = text_prep(\"This government is a failure!\")\n",
    "pred_conf = model.predict(test_example)\n",
    "pred_class = (model.predict(test_example) > 0.5).astype(\"int32\")\n",
    "print(\"%s sentiment; %f%% confidence\" % (pred_class[0][0], pred_conf[0][np.argmax(pred_conf)] * 100))"
   ]
  },
  {
   "cell_type": "code",
   "execution_count": 48,
   "metadata": {},
   "outputs": [
    {
     "name": "stdout",
     "output_type": "stream",
     "text": [
      "0 sentiment; 1.650123% confidence\n"
     ]
    }
   ],
   "source": [
    "test_example = text_prep(\"This government is a bad failure!\")\n",
    "pred_conf = model.predict(test_example)\n",
    "pred_class = (model.predict(test_example) > 0.5).astype(\"int32\")\n",
    "print(\"%s sentiment; %f%% confidence\" % (pred_class[0][0], pred_conf[0][np.argmax(pred_conf)] * 100))"
   ]
  },
  {
   "cell_type": "code",
   "execution_count": 49,
   "metadata": {},
   "outputs": [
    {
     "name": "stdout",
     "output_type": "stream",
     "text": [
      "0 sentiment; 4.947440% confidence\n"
     ]
    }
   ],
   "source": [
    "test_example = text_prep(\"They lost the elections!\")\n",
    "pred_conf = model.predict(test_example)\n",
    "pred_class = (model.predict(test_example) > 0.5).astype(\"int32\")\n",
    "print(\"%s sentiment; %f%% confidence\" % (pred_class[0][0], pred_conf[0][np.argmax(pred_conf)] * 100))"
   ]
  },
  {
   "cell_type": "code",
   "execution_count": 50,
   "metadata": {},
   "outputs": [
    {
     "name": "stdout",
     "output_type": "stream",
     "text": [
      "1 sentiment; 72.161716% confidence\n"
     ]
    }
   ],
   "source": [
    "test_example = text_prep(\"They won the elections!\")\n",
    "pred_conf = model.predict(test_example)\n",
    "pred_class = (model.predict(test_example) > 0.5).astype(\"int32\")\n",
    "print(\"%s sentiment; %f%% confidence\" % (pred_class[0][0], pred_conf[0][np.argmax(pred_conf)] * 100))"
   ]
  },
  {
   "cell_type": "code",
   "execution_count": 51,
   "metadata": {},
   "outputs": [
    {
     "name": "stdout",
     "output_type": "stream",
     "text": [
      "1 sentiment; 70.937777% confidence\n"
     ]
    }
   ],
   "source": [
    "test_example = text_prep(\"It's a bittersweet experience!\")\n",
    "pred_conf = model.predict(test_example)\n",
    "pred_class = (model.predict(test_example) > 0.5).astype(\"int32\")\n",
    "print(\"%s sentiment; %f%% confidence\" % (pred_class[0][0], pred_conf[0][np.argmax(pred_conf)] * 100))"
   ]
  },
  {
   "cell_type": "code",
   "execution_count": 52,
   "metadata": {},
   "outputs": [
    {
     "name": "stdout",
     "output_type": "stream",
     "text": [
      "0 sentiment; 4.648928% confidence\n"
     ]
    }
   ],
   "source": [
    "test_example = text_prep(\"I wish this gets over soon!\")\n",
    "pred_conf = model.predict(test_example)\n",
    "pred_class = (model.predict(test_example) > 0.5).astype(\"int32\")\n",
    "print(\"%s sentiment; %f%% confidence\" % (pred_class[0][0], pred_conf[0][np.argmax(pred_conf)] * 100))"
   ]
  },
  {
   "cell_type": "code",
   "execution_count": 53,
   "metadata": {},
   "outputs": [
    {
     "name": "stdout",
     "output_type": "stream",
     "text": [
      "0 sentiment; 11.430739% confidence\n"
     ]
    }
   ],
   "source": [
    "test_example = text_prep(\"Do not lose hope!\")\n",
    "pred_conf = model.predict(test_example)\n",
    "pred_class = (model.predict(test_example) > 0.5).astype(\"int32\")\n",
    "print(\"%s sentiment; %f%% confidence\" % (pred_class[0][0], pred_conf[0][np.argmax(pred_conf)] * 100))"
   ]
  },
  {
   "cell_type": "code",
   "execution_count": 54,
   "metadata": {},
   "outputs": [
    {
     "name": "stdout",
     "output_type": "stream",
     "text": [
      "0 sentiment; 3.242333% confidence\n"
     ]
    }
   ],
   "source": [
    "test_example = text_prep(\"This is the worst cake I've had\")\n",
    "pred_conf = model.predict(test_example)\n",
    "pred_class = (model.predict(test_example) > 0.5).astype(\"int32\")\n",
    "print(\"%s sentiment; %f%% confidence\" % (pred_class[0][0], pred_conf[0][np.argmax(pred_conf)] * 100))"
   ]
  },
  {
   "cell_type": "code",
   "execution_count": 55,
   "metadata": {},
   "outputs": [
    {
     "name": "stdout",
     "output_type": "stream",
     "text": [
      "0 sentiment; 13.750115% confidence\n"
     ]
    }
   ],
   "source": [
    "test_example = text_prep(\"We need better error messages\")\n",
    "pred_conf = model.predict(test_example)\n",
    "pred_class = (model.predict(test_example) > 0.5).astype(\"int32\")\n",
    "print(\"%s sentiment; %f%% confidence\" % (pred_class[0][0], pred_conf[0][np.argmax(pred_conf)] * 100))"
   ]
  },
  {
   "cell_type": "code",
   "execution_count": 56,
   "metadata": {},
   "outputs": [
    {
     "name": "stdout",
     "output_type": "stream",
     "text": [
      "0 sentiment; 42.576545% confidence\n"
     ]
    }
   ],
   "source": [
    "test_example = text_prep(\"In this situation, I'd say we are just being over confident\")\n",
    "pred_conf = model.predict(test_example)\n",
    "pred_class = (model.predict(test_example) > 0.5).astype(\"int32\")\n",
    "print(\"%s sentiment; %f%% confidence\" % (pred_class[0][0], pred_conf[0][np.argmax(pred_conf)] * 100))"
   ]
  },
  {
   "cell_type": "code",
   "execution_count": 57,
   "metadata": {},
   "outputs": [
    {
     "name": "stdout",
     "output_type": "stream",
     "text": [
      "0 sentiment; 43.395936% confidence\n"
     ]
    }
   ],
   "source": [
    "test_example = text_prep(\"You could have asked for an extra machine\")\n",
    "pred_conf = model.predict(test_example)\n",
    "pred_class = (model.predict(test_example) > 0.5).astype(\"int32\")\n",
    "print(\"%s sentiment; %f%% confidence\" % (pred_class[0][0], pred_conf[0][np.argmax(pred_conf)] * 100))"
   ]
  },
  {
   "cell_type": "code",
   "execution_count": 58,
   "metadata": {},
   "outputs": [
    {
     "name": "stdout",
     "output_type": "stream",
     "text": [
      "1 sentiment; 64.831561% confidence\n"
     ]
    }
   ],
   "source": [
    "test_example = text_prep(\"I'd take a bullet for him!\")\n",
    "pred_conf = model.predict(test_example)\n",
    "pred_class = (model.predict(test_example) > 0.5).astype(\"int32\")\n",
    "print(\"%s sentiment; %f%% confidence\" % (pred_class[0][0], pred_conf[0][np.argmax(pred_conf)] * 100))"
   ]
  }
 ],
 "metadata": {
  "kernelspec": {
   "display_name": "Python 3",
   "language": "python",
   "name": "python3"
  },
  "language_info": {
   "codemirror_mode": {
    "name": "ipython",
    "version": 3
   },
   "file_extension": ".py",
   "mimetype": "text/x-python",
   "name": "python",
   "nbconvert_exporter": "python",
   "pygments_lexer": "ipython3",
   "version": "3.6.9"
  }
 },
 "nbformat": 4,
 "nbformat_minor": 2
}
